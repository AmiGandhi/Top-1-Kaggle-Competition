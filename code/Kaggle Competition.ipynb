{
 "cells": [
  {
   "cell_type": "markdown",
   "metadata": {},
   "source": [
    "# INTRODUCTION\n",
    "\n",
    "The data comes from KAGGLE which consits of animal shelters. Outcomes represent the status of animals as they leave the Animal Center. All animals receive a unique Animal ID during intake.\n",
    "\n",
    "In this competition, we are going to predict the outcome of the animal as they leave the Animal Center. These outcomes include: Adoption, Died, Euthanasia, Return to owner, and Transfer. \n",
    "\n",
    "Dataset can be found at - https://www.kaggle.com/c/shelter-animal-outcomes/data"
   ]
  },
  {
   "cell_type": "markdown",
   "metadata": {},
   "source": [
    "# Using H2O"
   ]
  },
  {
   "cell_type": "markdown",
   "metadata": {},
   "source": [
    "### IMPORTING LIBRARIES"
   ]
  },
  {
   "cell_type": "code",
   "execution_count": 1,
   "metadata": {},
   "outputs": [],
   "source": [
    "import pandas as pd\n",
    "import matplotlib.pyplot as plt\n",
    "import time, warnings, h2o, logging, os, sys, psutil, random\n",
    "import numpy as np\n",
    "from h2o.automl import H2OAutoML"
   ]
  },
  {
   "cell_type": "code",
   "execution_count": 2,
   "metadata": {},
   "outputs": [
    {
     "name": "stdout",
     "output_type": "stream",
     "text": [
      "9\n"
     ]
    }
   ],
   "source": [
    "pct_memory=0.95\n",
    "virtual_memory=psutil.virtual_memory()\n",
    "min_mem_size=int(round(int(pct_memory*virtual_memory.available)/1073741824,0))\n",
    "print(min_mem_size)"
   ]
  },
  {
   "cell_type": "code",
   "execution_count": 3,
   "metadata": {},
   "outputs": [
    {
     "name": "stdout",
     "output_type": "stream",
     "text": [
      "Checking whether there is an H2O instance running at http://localhost:12739..... not found.\n",
      "Attempting to start a local H2O server...\n",
      "  Java Version: openjdk version \"1.8.0_121\"; OpenJDK Runtime Environment (Zulu 8.20.0.5-linux64) (build 1.8.0_121-b15); OpenJDK 64-Bit Server VM (Zulu 8.20.0.5-linux64) (build 25.121-b15, mixed mode)\n",
      "  Starting server from /home/nikunj/miniconda3/envs/py3.6/lib/python3.6/site-packages/h2o/backend/bin/h2o.jar\n",
      "  Ice root: /tmp/tmpodv98b4p\n",
      "  JVM stdout: /tmp/tmpodv98b4p/h2o_nikunj_started_from_python.out\n",
      "  JVM stderr: /tmp/tmpodv98b4p/h2o_nikunj_started_from_python.err\n",
      "  Server is running at http://127.0.0.1:12739\n",
      "Connecting to H2O server at http://127.0.0.1:12739... successful.\n"
     ]
    },
    {
     "data": {
      "text/html": [
       "<div style=\"overflow:auto\"><table style=\"width:50%\"><tr><td>H2O cluster uptime:</td>\n",
       "<td>01 secs</td></tr>\n",
       "<tr><td>H2O cluster timezone:</td>\n",
       "<td>America/New_York</td></tr>\n",
       "<tr><td>H2O data parsing timezone:</td>\n",
       "<td>UTC</td></tr>\n",
       "<tr><td>H2O cluster version:</td>\n",
       "<td>3.22.1.2</td></tr>\n",
       "<tr><td>H2O cluster version age:</td>\n",
       "<td>1 month and 8 days </td></tr>\n",
       "<tr><td>H2O cluster name:</td>\n",
       "<td>H2O_from_python_nikunj_h1l0om</td></tr>\n",
       "<tr><td>H2O cluster total nodes:</td>\n",
       "<td>1</td></tr>\n",
       "<tr><td>H2O cluster free memory:</td>\n",
       "<td>8.62 Gb</td></tr>\n",
       "<tr><td>H2O cluster total cores:</td>\n",
       "<td>4</td></tr>\n",
       "<tr><td>H2O cluster allowed cores:</td>\n",
       "<td>4</td></tr>\n",
       "<tr><td>H2O cluster status:</td>\n",
       "<td>accepting new members, healthy</td></tr>\n",
       "<tr><td>H2O connection url:</td>\n",
       "<td>http://127.0.0.1:12739</td></tr>\n",
       "<tr><td>H2O connection proxy:</td>\n",
       "<td>None</td></tr>\n",
       "<tr><td>H2O internal security:</td>\n",
       "<td>False</td></tr>\n",
       "<tr><td>H2O API Extensions:</td>\n",
       "<td>XGBoost, Algos, AutoML, Core V3, Core V4</td></tr>\n",
       "<tr><td>Python version:</td>\n",
       "<td>3.6.7 final</td></tr></table></div>"
      ],
      "text/plain": [
       "--------------------------  ----------------------------------------\n",
       "H2O cluster uptime:         01 secs\n",
       "H2O cluster timezone:       America/New_York\n",
       "H2O data parsing timezone:  UTC\n",
       "H2O cluster version:        3.22.1.2\n",
       "H2O cluster version age:    1 month and 8 days\n",
       "H2O cluster name:           H2O_from_python_nikunj_h1l0om\n",
       "H2O cluster total nodes:    1\n",
       "H2O cluster free memory:    8.62 Gb\n",
       "H2O cluster total cores:    4\n",
       "H2O cluster allowed cores:  4\n",
       "H2O cluster status:         accepting new members, healthy\n",
       "H2O connection url:         http://127.0.0.1:12739\n",
       "H2O connection proxy:\n",
       "H2O internal security:      False\n",
       "H2O API Extensions:         XGBoost, Algos, AutoML, Core V3, Core V4\n",
       "Python version:             3.6.7 final\n",
       "--------------------------  ----------------------------------------"
      ]
     },
     "metadata": {},
     "output_type": "display_data"
    }
   ],
   "source": [
    "# Connect to a cluster\n",
    "port_no=random.randint(5555,55555)\n",
    "\n",
    "#  h2o.init(strict_version_check=False,min_mem_size_GB=min_mem_size,port=port_no) # start h2o\n",
    "try:\n",
    "  h2o.init(strict_version_check=False,min_mem_size_GB=min_mem_size,port=port_no) # start h2o\n",
    "except:\n",
    "  logging.critical('h2o.init')\n",
    "  h2o.download_all_logs(dirname=logs_path, filename=logfile)      \n",
    "  h2o.cluster().shutdown()\n",
    "  sys.exit(2)"
   ]
  },
  {
   "cell_type": "markdown",
   "metadata": {},
   "source": [
    "### READING DATA AND PRE-PROCESSING"
   ]
  },
  {
   "cell_type": "code",
   "execution_count": 4,
   "metadata": {},
   "outputs": [],
   "source": [
    "#Setting the path\n",
    "current_dir = os.path.dirname(os.path.abspath(os.getcwd() + \"/Kaggle Competition.ipynb\"))\n",
    "os.chdir('../data')\n",
    "data_dir = os.getcwd()\n",
    "train_data = data_dir + '/train.csv'"
   ]
  },
  {
   "cell_type": "code",
   "execution_count": 5,
   "metadata": {},
   "outputs": [
    {
     "name": "stdout",
     "output_type": "stream",
     "text": [
      "Parse progress: |█████████████████████████████████████████████████████████| 100%\n"
     ]
    }
   ],
   "source": [
    "#Ingest data\n",
    "train_data = h2o.import_file(path = train_data, destination_frame = \"train_data\")"
   ]
  },
  {
   "cell_type": "code",
   "execution_count": 6,
   "metadata": {},
   "outputs": [
    {
     "data": {
      "text/html": [
       "<table>\n",
       "<thead>\n",
       "<tr><th>AnimalID  </th><th>Name   </th><th>DateTime           </th><th>OutcomeType    </th><th>OutcomeSubtype  </th><th>AnimalType  </th><th>SexuponOutcome  </th><th>AgeuponOutcome  </th><th>Breed                            </th><th>Color      </th></tr>\n",
       "</thead>\n",
       "<tbody>\n",
       "<tr><td>A671945   </td><td>Hambone</td><td>2014-02-12 18:22:00</td><td>Return_to_owner</td><td>                </td><td>Dog         </td><td>Neutered Male   </td><td>1 year          </td><td>Shetland Sheepdog Mix            </td><td>Brown/White</td></tr>\n",
       "<tr><td>A656520   </td><td>Emily  </td><td>2013-10-13 12:44:00</td><td>Euthanasia     </td><td>Suffering       </td><td>Cat         </td><td>Spayed Female   </td><td>1 year          </td><td>Domestic Shorthair Mix           </td><td>Cream Tabby</td></tr>\n",
       "<tr><td>A686464   </td><td>Pearce </td><td>2015-01-31 12:28:00</td><td>Adoption       </td><td>Foster          </td><td>Dog         </td><td>Neutered Male   </td><td>2 years         </td><td>Pit Bull Mix                     </td><td>Blue/White </td></tr>\n",
       "<tr><td>A683430   </td><td>       </td><td>2014-07-11 19:09:00</td><td>Transfer       </td><td>Partner         </td><td>Cat         </td><td>Intact Male     </td><td>3 weeks         </td><td>Domestic Shorthair Mix           </td><td>Blue Cream </td></tr>\n",
       "<tr><td>A667013   </td><td>       </td><td>2013-11-15 12:52:00</td><td>Transfer       </td><td>Partner         </td><td>Dog         </td><td>Neutered Male   </td><td>2 years         </td><td>Lhasa Apso/Miniature Poodle      </td><td>Tan        </td></tr>\n",
       "<tr><td>A677334   </td><td>Elsa   </td><td>2014-04-25 13:04:00</td><td>Transfer       </td><td>Partner         </td><td>Dog         </td><td>Intact Female   </td><td>1 month         </td><td>Cairn Terrier/Chihuahua Shorthair</td><td>Black/Tan  </td></tr>\n",
       "<tr><td>A699218   </td><td>Jimmy  </td><td>2015-03-28 13:11:00</td><td>Transfer       </td><td>Partner         </td><td>Cat         </td><td>Intact Male     </td><td>3 weeks         </td><td>Domestic Shorthair Mix           </td><td>Blue Tabby </td></tr>\n",
       "<tr><td>A701489   </td><td>       </td><td>2015-04-30 17:02:00</td><td>Transfer       </td><td>Partner         </td><td>Cat         </td><td>Unknown         </td><td>3 weeks         </td><td>Domestic Shorthair Mix           </td><td>Brown Tabby</td></tr>\n",
       "<tr><td>A671784   </td><td>Lucy   </td><td>2014-02-04 17:17:00</td><td>Adoption       </td><td>                </td><td>Dog         </td><td>Spayed Female   </td><td>5 months        </td><td>American Pit Bull Terrier Mix    </td><td>Red/White  </td></tr>\n",
       "<tr><td>A677747   </td><td>       </td><td>2014-05-03 07:48:00</td><td>Adoption       </td><td>Offsite         </td><td>Dog         </td><td>Spayed Female   </td><td>1 year          </td><td>Cairn Terrier                    </td><td>White      </td></tr>\n",
       "</tbody>\n",
       "</table>"
      ]
     },
     "metadata": {},
     "output_type": "display_data"
    }
   ],
   "source": [
    "#Peeking inside the data\n",
    "train_data.show()"
   ]
  },
  {
   "cell_type": "code",
   "execution_count": 7,
   "metadata": {},
   "outputs": [
    {
     "name": "stdout",
     "output_type": "stream",
     "text": [
      "Rows:26729\n",
      "Cols:10\n",
      "\n",
      "\n"
     ]
    },
    {
     "data": {
      "text/html": [
       "<table>\n",
       "<thead>\n",
       "<tr><th>       </th><th>AnimalID  </th><th>Name   </th><th>DateTime           </th><th>OutcomeType    </th><th>OutcomeSubtype  </th><th>AnimalType  </th><th>SexuponOutcome  </th><th>AgeuponOutcome  </th><th>Breed                            </th><th>Color      </th></tr>\n",
       "</thead>\n",
       "<tbody>\n",
       "<tr><td>type   </td><td>string    </td><td>enum   </td><td>time               </td><td>enum           </td><td>enum            </td><td>enum        </td><td>enum            </td><td>enum            </td><td>enum                             </td><td>enum       </td></tr>\n",
       "<tr><td>mins   </td><td>NaN       </td><td>       </td><td>1380619860000.0    </td><td>               </td><td>                </td><td>            </td><td>                </td><td>                </td><td>                                 </td><td>           </td></tr>\n",
       "<tr><td>mean   </td><td>NaN       </td><td>       </td><td>1418948543956.003  </td><td>               </td><td>                </td><td>            </td><td>                </td><td>                </td><td>                                 </td><td>           </td></tr>\n",
       "<tr><td>maxs   </td><td>NaN       </td><td>       </td><td>1456082220000.0    </td><td>               </td><td>                </td><td>            </td><td>                </td><td>                </td><td>                                 </td><td>           </td></tr>\n",
       "<tr><td>sigma  </td><td>NaN       </td><td>       </td><td>21433414554.633263 </td><td>               </td><td>                </td><td>            </td><td>                </td><td>                </td><td>                                 </td><td>           </td></tr>\n",
       "<tr><td>zeros  </td><td>0         </td><td>       </td><td>0                  </td><td>               </td><td>                </td><td>            </td><td>                </td><td>                </td><td>                                 </td><td>           </td></tr>\n",
       "<tr><td>missing</td><td>0         </td><td>7691   </td><td>0                  </td><td>0              </td><td>13612           </td><td>0           </td><td>1               </td><td>18              </td><td>0                                </td><td>0          </td></tr>\n",
       "<tr><td>0      </td><td>A671945   </td><td>Hambone</td><td>2014-02-12 18:22:00</td><td>Return_to_owner</td><td>                </td><td>Dog         </td><td>Neutered Male   </td><td>1 year          </td><td>Shetland Sheepdog Mix            </td><td>Brown/White</td></tr>\n",
       "<tr><td>1      </td><td>A656520   </td><td>Emily  </td><td>2013-10-13 12:44:00</td><td>Euthanasia     </td><td>Suffering       </td><td>Cat         </td><td>Spayed Female   </td><td>1 year          </td><td>Domestic Shorthair Mix           </td><td>Cream Tabby</td></tr>\n",
       "<tr><td>2      </td><td>A686464   </td><td>Pearce </td><td>2015-01-31 12:28:00</td><td>Adoption       </td><td>Foster          </td><td>Dog         </td><td>Neutered Male   </td><td>2 years         </td><td>Pit Bull Mix                     </td><td>Blue/White </td></tr>\n",
       "<tr><td>3      </td><td>A683430   </td><td>       </td><td>2014-07-11 19:09:00</td><td>Transfer       </td><td>Partner         </td><td>Cat         </td><td>Intact Male     </td><td>3 weeks         </td><td>Domestic Shorthair Mix           </td><td>Blue Cream </td></tr>\n",
       "<tr><td>4      </td><td>A667013   </td><td>       </td><td>2013-11-15 12:52:00</td><td>Transfer       </td><td>Partner         </td><td>Dog         </td><td>Neutered Male   </td><td>2 years         </td><td>Lhasa Apso/Miniature Poodle      </td><td>Tan        </td></tr>\n",
       "<tr><td>5      </td><td>A677334   </td><td>Elsa   </td><td>2014-04-25 13:04:00</td><td>Transfer       </td><td>Partner         </td><td>Dog         </td><td>Intact Female   </td><td>1 month         </td><td>Cairn Terrier/Chihuahua Shorthair</td><td>Black/Tan  </td></tr>\n",
       "<tr><td>6      </td><td>A699218   </td><td>Jimmy  </td><td>2015-03-28 13:11:00</td><td>Transfer       </td><td>Partner         </td><td>Cat         </td><td>Intact Male     </td><td>3 weeks         </td><td>Domestic Shorthair Mix           </td><td>Blue Tabby </td></tr>\n",
       "<tr><td>7      </td><td>A701489   </td><td>       </td><td>2015-04-30 17:02:00</td><td>Transfer       </td><td>Partner         </td><td>Cat         </td><td>Unknown         </td><td>3 weeks         </td><td>Domestic Shorthair Mix           </td><td>Brown Tabby</td></tr>\n",
       "<tr><td>8      </td><td>A671784   </td><td>Lucy   </td><td>2014-02-04 17:17:00</td><td>Adoption       </td><td>                </td><td>Dog         </td><td>Spayed Female   </td><td>5 months        </td><td>American Pit Bull Terrier Mix    </td><td>Red/White  </td></tr>\n",
       "<tr><td>9      </td><td>A677747   </td><td>       </td><td>2014-05-03 07:48:00</td><td>Adoption       </td><td>Offsite         </td><td>Dog         </td><td>Spayed Female   </td><td>1 year          </td><td>Cairn Terrier                    </td><td>White      </td></tr>\n",
       "</tbody>\n",
       "</table>"
      ]
     },
     "metadata": {},
     "output_type": "display_data"
    }
   ],
   "source": [
    "# used to gain statistical information of the columns present in the dataset\n",
    "train_data.describe()"
   ]
  },
  {
   "cell_type": "code",
   "execution_count": 8,
   "metadata": {},
   "outputs": [
    {
     "name": "stdout",
     "output_type": "stream",
     "text": [
      "['Name', 'OutcomeSubtype', 'AnimalType', 'SexuponOutcome', 'AgeuponOutcome', 'Breed', 'Color', 'AnimalID', 'DateTime']\n"
     ]
    }
   ],
   "source": [
    "target = 'OutcomeType'\n",
    "\n",
    "def get_independent_variables(train_data, targ):\n",
    "    C = [name for name in train_data.columns if name != targ]\n",
    "    # determine column types\n",
    "    ints, reals, enums = [], [], []\n",
    "    for key, val in train_data.types.items():\n",
    "        if key in C:\n",
    "            if val == 'enum':\n",
    "                enums.append(key)\n",
    "            elif val == 'int':\n",
    "                ints.append(key)            \n",
    "            else: \n",
    "                reals.append(key)    \n",
    "    x = ints + enums + reals\n",
    "    return x\n",
    "\n",
    "X = get_independent_variables(train_data, target) \n",
    "print(X)\n",
    "y = target"
   ]
  },
  {
   "cell_type": "code",
   "execution_count": 9,
   "metadata": {},
   "outputs": [],
   "source": [
    "train_data[y] = train_data[y].asfactor()"
   ]
  },
  {
   "cell_type": "code",
   "execution_count": 10,
   "metadata": {},
   "outputs": [
    {
     "name": "stdout",
     "output_type": "stream",
     "text": [
      "Rows:26729\n",
      "Cols:10\n",
      "\n",
      "\n"
     ]
    },
    {
     "data": {
      "text/html": [
       "<table>\n",
       "<thead>\n",
       "<tr><th>       </th><th>AnimalID  </th><th>Name   </th><th>DateTime           </th><th>OutcomeType    </th><th>OutcomeSubtype  </th><th>AnimalType  </th><th>SexuponOutcome  </th><th>AgeuponOutcome  </th><th>Breed                            </th><th>Color      </th></tr>\n",
       "</thead>\n",
       "<tbody>\n",
       "<tr><td>type   </td><td>string    </td><td>enum   </td><td>time               </td><td>enum           </td><td>enum            </td><td>enum        </td><td>enum            </td><td>enum            </td><td>enum                             </td><td>enum       </td></tr>\n",
       "<tr><td>mins   </td><td>NaN       </td><td>       </td><td>1380619860000.0    </td><td>               </td><td>                </td><td>            </td><td>                </td><td>                </td><td>                                 </td><td>           </td></tr>\n",
       "<tr><td>mean   </td><td>NaN       </td><td>       </td><td>1418948543956.003  </td><td>               </td><td>                </td><td>            </td><td>                </td><td>                </td><td>                                 </td><td>           </td></tr>\n",
       "<tr><td>maxs   </td><td>NaN       </td><td>       </td><td>1456082220000.0    </td><td>               </td><td>                </td><td>            </td><td>                </td><td>                </td><td>                                 </td><td>           </td></tr>\n",
       "<tr><td>sigma  </td><td>NaN       </td><td>       </td><td>21433414554.633263 </td><td>               </td><td>                </td><td>            </td><td>                </td><td>                </td><td>                                 </td><td>           </td></tr>\n",
       "<tr><td>zeros  </td><td>0         </td><td>       </td><td>0                  </td><td>               </td><td>                </td><td>            </td><td>                </td><td>                </td><td>                                 </td><td>           </td></tr>\n",
       "<tr><td>missing</td><td>0         </td><td>7691   </td><td>0                  </td><td>0              </td><td>13612           </td><td>0           </td><td>1               </td><td>18              </td><td>0                                </td><td>0          </td></tr>\n",
       "<tr><td>0      </td><td>A671945   </td><td>Hambone</td><td>2014-02-12 18:22:00</td><td>Return_to_owner</td><td>                </td><td>Dog         </td><td>Neutered Male   </td><td>1 year          </td><td>Shetland Sheepdog Mix            </td><td>Brown/White</td></tr>\n",
       "<tr><td>1      </td><td>A656520   </td><td>Emily  </td><td>2013-10-13 12:44:00</td><td>Euthanasia     </td><td>Suffering       </td><td>Cat         </td><td>Spayed Female   </td><td>1 year          </td><td>Domestic Shorthair Mix           </td><td>Cream Tabby</td></tr>\n",
       "<tr><td>2      </td><td>A686464   </td><td>Pearce </td><td>2015-01-31 12:28:00</td><td>Adoption       </td><td>Foster          </td><td>Dog         </td><td>Neutered Male   </td><td>2 years         </td><td>Pit Bull Mix                     </td><td>Blue/White </td></tr>\n",
       "<tr><td>3      </td><td>A683430   </td><td>       </td><td>2014-07-11 19:09:00</td><td>Transfer       </td><td>Partner         </td><td>Cat         </td><td>Intact Male     </td><td>3 weeks         </td><td>Domestic Shorthair Mix           </td><td>Blue Cream </td></tr>\n",
       "<tr><td>4      </td><td>A667013   </td><td>       </td><td>2013-11-15 12:52:00</td><td>Transfer       </td><td>Partner         </td><td>Dog         </td><td>Neutered Male   </td><td>2 years         </td><td>Lhasa Apso/Miniature Poodle      </td><td>Tan        </td></tr>\n",
       "<tr><td>5      </td><td>A677334   </td><td>Elsa   </td><td>2014-04-25 13:04:00</td><td>Transfer       </td><td>Partner         </td><td>Dog         </td><td>Intact Female   </td><td>1 month         </td><td>Cairn Terrier/Chihuahua Shorthair</td><td>Black/Tan  </td></tr>\n",
       "<tr><td>6      </td><td>A699218   </td><td>Jimmy  </td><td>2015-03-28 13:11:00</td><td>Transfer       </td><td>Partner         </td><td>Cat         </td><td>Intact Male     </td><td>3 weeks         </td><td>Domestic Shorthair Mix           </td><td>Blue Tabby </td></tr>\n",
       "<tr><td>7      </td><td>A701489   </td><td>       </td><td>2015-04-30 17:02:00</td><td>Transfer       </td><td>Partner         </td><td>Cat         </td><td>Unknown         </td><td>3 weeks         </td><td>Domestic Shorthair Mix           </td><td>Brown Tabby</td></tr>\n",
       "<tr><td>8      </td><td>A671784   </td><td>Lucy   </td><td>2014-02-04 17:17:00</td><td>Adoption       </td><td>                </td><td>Dog         </td><td>Spayed Female   </td><td>5 months        </td><td>American Pit Bull Terrier Mix    </td><td>Red/White  </td></tr>\n",
       "<tr><td>9      </td><td>A677747   </td><td>       </td><td>2014-05-03 07:48:00</td><td>Adoption       </td><td>Offsite         </td><td>Dog         </td><td>Spayed Female   </td><td>1 year          </td><td>Cairn Terrier                    </td><td>White      </td></tr>\n",
       "</tbody>\n",
       "</table>"
      ]
     },
     "metadata": {},
     "output_type": "display_data"
    }
   ],
   "source": [
    "train_data.describe()"
   ]
  },
  {
   "cell_type": "code",
   "execution_count": 11,
   "metadata": {},
   "outputs": [],
   "source": [
    "# setup autoML\n",
    "# min_mem_size=6 \n",
    "run_time=333\n",
    "aml = H2OAutoML(max_runtime_secs=run_time)"
   ]
  },
  {
   "cell_type": "code",
   "execution_count": 12,
   "metadata": {},
   "outputs": [],
   "source": [
    "os.getcwd()\n",
    "os.chdir('../logs')\n",
    "logs_path = os.getcwd()\n",
    "logfile = 'logs.txt'"
   ]
  },
  {
   "cell_type": "code",
   "execution_count": 13,
   "metadata": {},
   "outputs": [
    {
     "name": "stdout",
     "output_type": "stream",
     "text": [
      "AutoML progress: |████████████████████████████████████████████████████████| 100%\n"
     ]
    }
   ],
   "source": [
    "model_start_time = time.time()\n",
    "  \n",
    "try:\n",
    "  aml.train(x=X,y=y,training_frame=train_data)  # Change training_frame=train\n",
    "except Exception as e:\n",
    "  logging.critical('aml.train') \n",
    "  h2o.download_all_logs(dirname=logs_path, filename=logfile)      \n",
    "  h2o.cluster().shutdown()   \n",
    "  sys.exit(4)"
   ]
  },
  {
   "cell_type": "code",
   "execution_count": 14,
   "metadata": {},
   "outputs": [
    {
     "data": {
      "text/plain": [
       "{'model_execution_time': {'classification': 412.43854880332947}}"
      ]
     },
     "execution_count": 14,
     "metadata": {},
     "output_type": "execute_result"
    }
   ],
   "source": [
    "meta_data={}\n",
    "meta_data['model_execution_time'] = {\"classification\":(time.time() - model_start_time)}\n",
    "meta_data\n",
    "# d = meta_data['model_execution_time']\n",
    "# d['classification'] = (time.time() - model_start_time)\n",
    "# meta_data['model_execution_time'] = d"
   ]
  },
  {
   "cell_type": "code",
   "execution_count": 15,
   "metadata": {},
   "outputs": [
    {
     "data": {
      "text/html": [
       "<table>\n",
       "<thead>\n",
       "<tr><th>model_id                                           </th><th style=\"text-align: right;\">  mean_per_class_error</th><th style=\"text-align: right;\">  logloss</th><th style=\"text-align: right;\">    rmse</th><th style=\"text-align: right;\">      mse</th></tr>\n",
       "</thead>\n",
       "<tbody>\n",
       "<tr><td>StackedEnsemble_AllModels_AutoML_20190227_155417   </td><td style=\"text-align: right;\">              0.126207</td><td style=\"text-align: right;\"> 0.258704</td><td style=\"text-align: right;\">0.291684</td><td style=\"text-align: right;\">0.0850794</td></tr>\n",
       "<tr><td>StackedEnsemble_BestOfFamily_AutoML_20190227_155417</td><td style=\"text-align: right;\">              0.126207</td><td style=\"text-align: right;\"> 0.258704</td><td style=\"text-align: right;\">0.291684</td><td style=\"text-align: right;\">0.0850794</td></tr>\n",
       "<tr><td>DRF_1_AutoML_20190227_155417                       </td><td style=\"text-align: right;\">              0.130335</td><td style=\"text-align: right;\"> 0.29565 </td><td style=\"text-align: right;\">0.298685</td><td style=\"text-align: right;\">0.0892126</td></tr>\n",
       "<tr><td>XRT_1_AutoML_20190227_155417                       </td><td style=\"text-align: right;\">              0.20958 </td><td style=\"text-align: right;\"> 0.604429</td><td style=\"text-align: right;\">0.442417</td><td style=\"text-align: right;\">0.195732 </td></tr>\n",
       "<tr><td>GLM_grid_1_AutoML_20190227_155417_model_1          </td><td style=\"text-align: right;\">              0.681595</td><td style=\"text-align: right;\"> 1.01313 </td><td style=\"text-align: right;\">0.613699</td><td style=\"text-align: right;\">0.376627 </td></tr>\n",
       "</tbody>\n",
       "</table>"
      ]
     },
     "metadata": {},
     "output_type": "display_data"
    },
    {
     "name": "stdout",
     "output_type": "stream",
     "text": [
      "\n"
     ]
    }
   ],
   "source": [
    "print(aml.leaderboard)"
   ]
  },
  {
   "cell_type": "markdown",
   "metadata": {},
   "source": [
    "## Save the leaderboard model\n",
    "\n",
    "There are two ways to save the leader model -- binary format and MOJO format. If you're taking your leader model to production, then we'd suggest the MOJO format since it's optimized for production use."
   ]
  },
  {
   "cell_type": "code",
   "execution_count": 16,
   "metadata": {},
   "outputs": [],
   "source": [
    "best_model = h2o.get_model(aml.leaderboard[0,'model_id'])"
   ]
  },
  {
   "cell_type": "code",
   "execution_count": 17,
   "metadata": {},
   "outputs": [
    {
     "data": {
      "text/plain": [
       "'stackedensemble'"
      ]
     },
     "execution_count": 17,
     "metadata": {},
     "output_type": "execute_result"
    }
   ],
   "source": [
    "best_model.algo"
   ]
  },
  {
   "cell_type": "code",
   "execution_count": 18,
   "metadata": {},
   "outputs": [
    {
     "name": "stdout",
     "output_type": "stream",
     "text": [
      "0.14849808524524816\n"
     ]
    }
   ],
   "source": [
    "print(best_model.logloss(train = True))"
   ]
  },
  {
   "cell_type": "markdown",
   "metadata": {},
   "source": [
    "## RESULTS"
   ]
  },
  {
   "cell_type": "markdown",
   "metadata": {},
   "source": [
    "Our evaluation metric is logloss for this dataset. The best on the kaggle leaderboard is logloss = 0.0000 whereas we get the logloss = 0.1485 for the first model while running it on H2O. We stand 3rd on the Kaggle public leaderboard and hence we are in the top 1% in this competition. Following is the leaderboard link for this competition:\n",
    "\n",
    "[Kaggle Leaderboard](https://www.kaggle.com/c/shelter-animal-outcomes/leaderboard)\n"
   ]
  },
  {
   "cell_type": "markdown",
   "metadata": {},
   "source": []
  }
 ],
 "metadata": {
  "kernelspec": {
   "display_name": "Python 3",
   "language": "python",
   "name": "python3"
  },
  "language_info": {
   "codemirror_mode": {
    "name": "ipython",
    "version": 3
   },
   "file_extension": ".py",
   "mimetype": "text/x-python",
   "name": "python",
   "nbconvert_exporter": "python",
   "pygments_lexer": "ipython3",
   "version": "3.6.7"
  }
 },
 "nbformat": 4,
 "nbformat_minor": 2
}
