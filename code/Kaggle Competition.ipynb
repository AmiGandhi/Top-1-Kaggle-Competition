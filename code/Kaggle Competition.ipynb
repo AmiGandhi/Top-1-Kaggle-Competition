{
 "cells": [
  {
   "cell_type": "markdown",
   "metadata": {},
   "source": [
    "# INTRODUCTION\n",
    "\n",
    "The data comes from KAGGLE which consits of animal shelters. Outcomes represent the status of animals as they leave the Animal Center. All animals receive a unique Animal ID during intake.\n",
    "\n",
    "In this competition, we are going to predict the outcome of the animal as they leave the Animal Center. These outcomes include: Adoption, Died, Euthanasia, Return to owner, and Transfer. \n",
    "\n",
    "Dataset can be found at - https://www.kaggle.com/c/shelter-animal-outcomes/data"
   ]
  },
  {
   "cell_type": "markdown",
   "metadata": {},
   "source": [
    "### IMPORTING LIBRARIES"
   ]
  },
  {
   "cell_type": "code",
   "execution_count": 4,
   "metadata": {},
   "outputs": [],
   "source": [
    "import pandas as pd\n",
    "import matplotlib.pyplot as plt\n",
    "import time\n",
    "import warnings\n",
    "import numpy as np\n",
    "import h2o\n",
    "import os"
   ]
  },
  {
   "cell_type": "code",
   "execution_count": 2,
   "metadata": {},
   "outputs": [
    {
     "name": "stdout",
     "output_type": "stream",
     "text": [
      "Checking whether there is an H2O instance running at http://localhost:54321..... not found.\n",
      "Attempting to start a local H2O server...\n",
      "; OpenJDK 64-Bit Server VM (Zulu 8.20.0.5-win64) (build 25.121-b15, mixed mode)\n",
      "  Starting server from C:\\Users\\amiga\\Anaconda3\\lib\\site-packages\\h2o\\backend\\bin\\h2o.jar\n",
      "  Ice root: C:\\Users\\amiga\\AppData\\Local\\Temp\\tmp5g80ct_m\n",
      "  JVM stdout: C:\\Users\\amiga\\AppData\\Local\\Temp\\tmp5g80ct_m\\h2o_amiga_started_from_python.out\n",
      "  JVM stderr: C:\\Users\\amiga\\AppData\\Local\\Temp\\tmp5g80ct_m\\h2o_amiga_started_from_python.err\n",
      "  Server is running at http://127.0.0.1:54321\n",
      "Connecting to H2O server at http://127.0.0.1:54321... successful.\n"
     ]
    },
    {
     "data": {
      "text/html": [
       "<div style=\"overflow:auto\"><table style=\"width:50%\"><tr><td>H2O cluster uptime:</td>\n",
       "<td>03 secs</td></tr>\n",
       "<tr><td>H2O cluster timezone:</td>\n",
       "<td>America/New_York</td></tr>\n",
       "<tr><td>H2O data parsing timezone:</td>\n",
       "<td>UTC</td></tr>\n",
       "<tr><td>H2O cluster version:</td>\n",
       "<td>3.22.1.3</td></tr>\n",
       "<tr><td>H2O cluster version age:</td>\n",
       "<td>16 days </td></tr>\n",
       "<tr><td>H2O cluster name:</td>\n",
       "<td>H2O_from_python_amiga_09fgec</td></tr>\n",
       "<tr><td>H2O cluster total nodes:</td>\n",
       "<td>1</td></tr>\n",
       "<tr><td>H2O cluster free memory:</td>\n",
       "<td>3.521 Gb</td></tr>\n",
       "<tr><td>H2O cluster total cores:</td>\n",
       "<td>8</td></tr>\n",
       "<tr><td>H2O cluster allowed cores:</td>\n",
       "<td>8</td></tr>\n",
       "<tr><td>H2O cluster status:</td>\n",
       "<td>accepting new members, healthy</td></tr>\n",
       "<tr><td>H2O connection url:</td>\n",
       "<td>http://127.0.0.1:54321</td></tr>\n",
       "<tr><td>H2O connection proxy:</td>\n",
       "<td>None</td></tr>\n",
       "<tr><td>H2O internal security:</td>\n",
       "<td>False</td></tr>\n",
       "<tr><td>H2O API Extensions:</td>\n",
       "<td>Algos, AutoML, Core V3, Core V4</td></tr>\n",
       "<tr><td>Python version:</td>\n",
       "<td>3.7.2 final</td></tr></table></div>"
      ],
      "text/plain": [
       "--------------------------  -------------------------------\n",
       "H2O cluster uptime:         03 secs\n",
       "H2O cluster timezone:       America/New_York\n",
       "H2O data parsing timezone:  UTC\n",
       "H2O cluster version:        3.22.1.3\n",
       "H2O cluster version age:    16 days\n",
       "H2O cluster name:           H2O_from_python_amiga_09fgec\n",
       "H2O cluster total nodes:    1\n",
       "H2O cluster free memory:    3.521 Gb\n",
       "H2O cluster total cores:    8\n",
       "H2O cluster allowed cores:  8\n",
       "H2O cluster status:         accepting new members, healthy\n",
       "H2O connection url:         http://127.0.0.1:54321\n",
       "H2O connection proxy:\n",
       "H2O internal security:      False\n",
       "H2O API Extensions:         Algos, AutoML, Core V3, Core V4\n",
       "Python version:             3.7.2 final\n",
       "--------------------------  -------------------------------"
      ]
     },
     "metadata": {},
     "output_type": "display_data"
    }
   ],
   "source": [
    "# Connect to a cluster\n",
    "h2o.init()"
   ]
  },
  {
   "cell_type": "markdown",
   "metadata": {},
   "source": [
    "### READING DATA AND PRE-PROCESSING"
   ]
  },
  {
   "cell_type": "code",
   "execution_count": 5,
   "metadata": {},
   "outputs": [],
   "source": [
    "#Setting the path\n",
    "current_dir = os.path.dirname(os.path.abspath(os.getcwd() + \"/Kaggle Competition.ipynb\"))\n",
    "os.chdir('../data')\n",
    "data_dir = os.getcwd()\n",
    "train_data = data_dir + '/train.csv'"
   ]
  },
  {
   "cell_type": "code",
   "execution_count": 6,
   "metadata": {},
   "outputs": [
    {
     "name": "stdout",
     "output_type": "stream",
     "text": [
      "Parse progress: |█████████████████████████████████████████████████████████| 100%\n"
     ]
    }
   ],
   "source": [
    "#Ingest data\n",
    "train_data = h2o.import_file(path = train_data, destination_frame = \"train_data\")"
   ]
  },
  {
   "cell_type": "code",
   "execution_count": 9,
   "metadata": {},
   "outputs": [
    {
     "data": {
      "text/html": [
       "<table>\n",
       "<thead>\n",
       "<tr><th>AnimalID  </th><th>Name   </th><th>DateTime           </th><th>OutcomeType    </th><th>OutcomeSubtype  </th><th>AnimalType  </th><th>SexuponOutcome  </th><th>AgeuponOutcome  </th><th>Breed                            </th><th>Color      </th></tr>\n",
       "</thead>\n",
       "<tbody>\n",
       "<tr><td>A671945   </td><td>Hambone</td><td>2014-02-12 18:22:00</td><td>Return_to_owner</td><td>                </td><td>Dog         </td><td>Neutered Male   </td><td>1 year          </td><td>Shetland Sheepdog Mix            </td><td>Brown/White</td></tr>\n",
       "<tr><td>A656520   </td><td>Emily  </td><td>2013-10-13 12:44:00</td><td>Euthanasia     </td><td>Suffering       </td><td>Cat         </td><td>Spayed Female   </td><td>1 year          </td><td>Domestic Shorthair Mix           </td><td>Cream Tabby</td></tr>\n",
       "<tr><td>A686464   </td><td>Pearce </td><td>2015-01-31 12:28:00</td><td>Adoption       </td><td>Foster          </td><td>Dog         </td><td>Neutered Male   </td><td>2 years         </td><td>Pit Bull Mix                     </td><td>Blue/White </td></tr>\n",
       "<tr><td>A683430   </td><td>       </td><td>2014-07-11 19:09:00</td><td>Transfer       </td><td>Partner         </td><td>Cat         </td><td>Intact Male     </td><td>3 weeks         </td><td>Domestic Shorthair Mix           </td><td>Blue Cream </td></tr>\n",
       "<tr><td>A667013   </td><td>       </td><td>2013-11-15 12:52:00</td><td>Transfer       </td><td>Partner         </td><td>Dog         </td><td>Neutered Male   </td><td>2 years         </td><td>Lhasa Apso/Miniature Poodle      </td><td>Tan        </td></tr>\n",
       "<tr><td>A677334   </td><td>Elsa   </td><td>2014-04-25 13:04:00</td><td>Transfer       </td><td>Partner         </td><td>Dog         </td><td>Intact Female   </td><td>1 month         </td><td>Cairn Terrier/Chihuahua Shorthair</td><td>Black/Tan  </td></tr>\n",
       "<tr><td>A699218   </td><td>Jimmy  </td><td>2015-03-28 13:11:00</td><td>Transfer       </td><td>Partner         </td><td>Cat         </td><td>Intact Male     </td><td>3 weeks         </td><td>Domestic Shorthair Mix           </td><td>Blue Tabby </td></tr>\n",
       "<tr><td>A701489   </td><td>       </td><td>2015-04-30 17:02:00</td><td>Transfer       </td><td>Partner         </td><td>Cat         </td><td>Unknown         </td><td>3 weeks         </td><td>Domestic Shorthair Mix           </td><td>Brown Tabby</td></tr>\n",
       "<tr><td>A671784   </td><td>Lucy   </td><td>2014-02-04 17:17:00</td><td>Adoption       </td><td>                </td><td>Dog         </td><td>Spayed Female   </td><td>5 months        </td><td>American Pit Bull Terrier Mix    </td><td>Red/White  </td></tr>\n",
       "<tr><td>A677747   </td><td>       </td><td>2014-05-03 07:48:00</td><td>Adoption       </td><td>Offsite         </td><td>Dog         </td><td>Spayed Female   </td><td>1 year          </td><td>Cairn Terrier                    </td><td>White      </td></tr>\n",
       "</tbody>\n",
       "</table>"
      ]
     },
     "metadata": {},
     "output_type": "display_data"
    }
   ],
   "source": [
    "#Peeking inside the data\n",
    "train_data.show()"
   ]
  },
  {
   "cell_type": "code",
   "execution_count": null,
   "metadata": {},
   "outputs": [],
   "source": []
  }
 ],
 "metadata": {
  "kernelspec": {
   "display_name": "Python 3",
   "language": "python",
   "name": "python3"
  },
  "language_info": {
   "codemirror_mode": {
    "name": "ipython",
    "version": 3
   },
   "file_extension": ".py",
   "mimetype": "text/x-python",
   "name": "python",
   "nbconvert_exporter": "python",
   "pygments_lexer": "ipython3",
   "version": "3.7.2"
  }
 },
 "nbformat": 4,
 "nbformat_minor": 2
}
