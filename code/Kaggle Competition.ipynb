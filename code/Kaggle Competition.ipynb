{
 "cells": [
  {
   "cell_type": "markdown",
   "metadata": {},
   "source": [
    "# INTRODUCTION\n",
    "\n",
    "The data comes from KAGGLE which consits of animal shelters. Outcomes represent the status of animals as they leave the Animal Center. All animals receive a unique Animal ID during intake.\n",
    "\n",
    "In this competition, we are going to predict the outcome of the animal as they leave the Animal Center. These outcomes include: Adoption, Died, Euthanasia, Return to owner, and Transfer. \n",
    "\n",
    "Dataset can be found at - https://www.kaggle.com/c/shelter-animal-outcomes/data"
   ]
  },
  {
   "cell_type": "markdown",
   "metadata": {},
   "source": [
    "# Using H2O:"
   ]
  },
  {
   "cell_type": "markdown",
   "metadata": {},
   "source": [
    "### IMPORTING LIBRARIES"
   ]
  },
  {
   "cell_type": "code",
   "execution_count": 190,
   "metadata": {},
   "outputs": [
    {
     "ename": "ModuleNotFoundError",
     "evalue": "No module named 'keras'",
     "output_type": "error",
     "traceback": [
      "\u001b[1;31m---------------------------------------------------------------------------\u001b[0m",
      "\u001b[1;31mModuleNotFoundError\u001b[0m                       Traceback (most recent call last)",
      "\u001b[1;32m<ipython-input-190-51c7d70b47ac>\u001b[0m in \u001b[0;36m<module>\u001b[1;34m()\u001b[0m\n\u001b[0;32m      8\u001b[0m \u001b[1;32mfrom\u001b[0m \u001b[0msklearn\u001b[0m \u001b[1;32mimport\u001b[0m \u001b[0mpreprocessing\u001b[0m\u001b[1;33m\u001b[0m\u001b[1;33m\u001b[0m\u001b[0m\n\u001b[0;32m      9\u001b[0m \u001b[1;32mfrom\u001b[0m \u001b[0msklearn\u001b[0m\u001b[1;33m.\u001b[0m\u001b[0mpreprocessing\u001b[0m \u001b[1;32mimport\u001b[0m \u001b[0mLabelEncoder\u001b[0m\u001b[1;33m\u001b[0m\u001b[1;33m\u001b[0m\u001b[0m\n\u001b[1;32m---> 10\u001b[1;33m \u001b[1;32mfrom\u001b[0m \u001b[0mkeras\u001b[0m\u001b[1;33m.\u001b[0m\u001b[0mpreprocessing\u001b[0m\u001b[1;33m.\u001b[0m\u001b[0mtext\u001b[0m \u001b[1;32mimport\u001b[0m \u001b[0mone_hot\u001b[0m\u001b[1;33m\u001b[0m\u001b[1;33m\u001b[0m\u001b[0m\n\u001b[0m\u001b[0;32m     11\u001b[0m \u001b[1;32mfrom\u001b[0m \u001b[0mkeras\u001b[0m\u001b[1;33m.\u001b[0m\u001b[0mpreprocessing\u001b[0m\u001b[1;33m.\u001b[0m\u001b[0msequence\u001b[0m \u001b[1;32mimport\u001b[0m \u001b[0mpad_sequences\u001b[0m\u001b[1;33m\u001b[0m\u001b[1;33m\u001b[0m\u001b[0m\n\u001b[0;32m     12\u001b[0m \u001b[1;32mfrom\u001b[0m \u001b[0mkeras\u001b[0m\u001b[1;33m.\u001b[0m\u001b[0mlayers\u001b[0m\u001b[1;33m.\u001b[0m\u001b[0membeddings\u001b[0m \u001b[1;32mimport\u001b[0m \u001b[0mEmbedding\u001b[0m\u001b[1;33m\u001b[0m\u001b[1;33m\u001b[0m\u001b[0m\n",
      "\u001b[1;31mModuleNotFoundError\u001b[0m: No module named 'keras'"
     ]
    }
   ],
   "source": [
    "import pandas as pd\n",
    "import seaborn as sns\n",
    "import matplotlib.pyplot as plt\n",
    "import time, warnings, h2o, logging, os, sys, psutil, random\n",
    "import numpy as np\n",
    "from h2o.automl import H2OAutoML\n",
    "\n",
    "from sklearn import preprocessing\n",
    "from sklearn.preprocessing import LabelEncoder\n",
    "from keras.preprocessing.text import one_hot\n",
    "from keras.preprocessing.sequence import pad_sequences\n",
    "from keras.layers.embeddings import Embedding\n",
    "from keras.layers import Reshape\n",
    "from keras.models import Sequential\n",
    "from keras.layers import Dense, Add\n",
    "from keras.layers import Flatten\n",
    "from keras.utils import np_utils"
   ]
  },
  {
   "cell_type": "code",
   "execution_count": 2,
   "metadata": {},
   "outputs": [
    {
     "name": "stdout",
     "output_type": "stream",
     "text": [
      "7\n"
     ]
    }
   ],
   "source": [
    "pct_memory=0.95\n",
    "virtual_memory=psutil.virtual_memory()\n",
    "min_mem_size=int(round(int(pct_memory*virtual_memory.available)/1073741824,0))\n",
    "print(min_mem_size)"
   ]
  },
  {
   "cell_type": "code",
   "execution_count": 3,
   "metadata": {},
   "outputs": [
    {
     "name": "stdout",
     "output_type": "stream",
     "text": [
      "Checking whether there is an H2O instance running at http://localhost:15075..... not found.\n",
      "Attempting to start a local H2O server...\n",
      "; OpenJDK 64-Bit Server VM (Zulu 8.20.0.5-win64) (build 25.121-b15, mixed mode)\n",
      "  Starting server from C:\\Users\\amiga\\Anaconda3\\lib\\site-packages\\h2o\\backend\\bin\\h2o.jar\n",
      "  Ice root: C:\\Users\\amiga\\AppData\\Local\\Temp\\tmpqx7nslpx\n",
      "  JVM stdout: C:\\Users\\amiga\\AppData\\Local\\Temp\\tmpqx7nslpx\\h2o_amiga_started_from_python.out\n",
      "  JVM stderr: C:\\Users\\amiga\\AppData\\Local\\Temp\\tmpqx7nslpx\\h2o_amiga_started_from_python.err\n",
      "  Server is running at http://127.0.0.1:15075\n",
      "Connecting to H2O server at http://127.0.0.1:15075... successful.\n"
     ]
    },
    {
     "data": {
      "text/html": [
       "<div style=\"overflow:auto\"><table style=\"width:50%\"><tr><td>H2O cluster uptime:</td>\n",
       "<td>02 secs</td></tr>\n",
       "<tr><td>H2O cluster timezone:</td>\n",
       "<td>America/New_York</td></tr>\n",
       "<tr><td>H2O data parsing timezone:</td>\n",
       "<td>UTC</td></tr>\n",
       "<tr><td>H2O cluster version:</td>\n",
       "<td>3.22.1.3</td></tr>\n",
       "<tr><td>H2O cluster version age:</td>\n",
       "<td>1 month and 3 days </td></tr>\n",
       "<tr><td>H2O cluster name:</td>\n",
       "<td>H2O_from_python_amiga_ozqj1y</td></tr>\n",
       "<tr><td>H2O cluster total nodes:</td>\n",
       "<td>1</td></tr>\n",
       "<tr><td>H2O cluster free memory:</td>\n",
       "<td>6.708 Gb</td></tr>\n",
       "<tr><td>H2O cluster total cores:</td>\n",
       "<td>8</td></tr>\n",
       "<tr><td>H2O cluster allowed cores:</td>\n",
       "<td>8</td></tr>\n",
       "<tr><td>H2O cluster status:</td>\n",
       "<td>accepting new members, healthy</td></tr>\n",
       "<tr><td>H2O connection url:</td>\n",
       "<td>http://127.0.0.1:15075</td></tr>\n",
       "<tr><td>H2O connection proxy:</td>\n",
       "<td>None</td></tr>\n",
       "<tr><td>H2O internal security:</td>\n",
       "<td>False</td></tr>\n",
       "<tr><td>H2O API Extensions:</td>\n",
       "<td>Algos, AutoML, Core V3, Core V4</td></tr>\n",
       "<tr><td>Python version:</td>\n",
       "<td>3.7.2 final</td></tr></table></div>"
      ],
      "text/plain": [
       "--------------------------  -------------------------------\n",
       "H2O cluster uptime:         02 secs\n",
       "H2O cluster timezone:       America/New_York\n",
       "H2O data parsing timezone:  UTC\n",
       "H2O cluster version:        3.22.1.3\n",
       "H2O cluster version age:    1 month and 3 days\n",
       "H2O cluster name:           H2O_from_python_amiga_ozqj1y\n",
       "H2O cluster total nodes:    1\n",
       "H2O cluster free memory:    6.708 Gb\n",
       "H2O cluster total cores:    8\n",
       "H2O cluster allowed cores:  8\n",
       "H2O cluster status:         accepting new members, healthy\n",
       "H2O connection url:         http://127.0.0.1:15075\n",
       "H2O connection proxy:\n",
       "H2O internal security:      False\n",
       "H2O API Extensions:         Algos, AutoML, Core V3, Core V4\n",
       "Python version:             3.7.2 final\n",
       "--------------------------  -------------------------------"
      ]
     },
     "metadata": {},
     "output_type": "display_data"
    }
   ],
   "source": [
    "# Connect to a cluster\n",
    "port_no=random.randint(5555,55555)\n",
    "\n",
    "#  h2o.init(strict_version_check=False,min_mem_size_GB=min_mem_size,port=port_no) # start h2o\n",
    "try:\n",
    "  h2o.init(strict_version_check=False,min_mem_size_GB=min_mem_size,port=port_no) # start h2o\n",
    "except:\n",
    "  logging.critical('h2o.init')\n",
    "  h2o.download_all_logs(dirname=logs_path, filename=logfile)      \n",
    "  h2o.cluster().shutdown()\n",
    "  sys.exit(2)"
   ]
  },
  {
   "cell_type": "markdown",
   "metadata": {},
   "source": [
    "### READING DATA AND PRE-PROCESSING"
   ]
  },
  {
   "cell_type": "code",
   "execution_count": 4,
   "metadata": {},
   "outputs": [],
   "source": [
    "#Setting the path\n",
    "current_dir = os.path.dirname(os.path.abspath(os.getcwd() + \"/Kaggle Competition.ipynb\"))\n",
    "os.chdir('../data')\n",
    "data_dir = os.getcwd()\n",
    "data_path = data_dir + '/train.csv'"
   ]
  },
  {
   "cell_type": "code",
   "execution_count": 5,
   "metadata": {},
   "outputs": [
    {
     "name": "stdout",
     "output_type": "stream",
     "text": [
      "Parse progress: |█████████████████████████████████████████████████████████| 100%\n"
     ]
    }
   ],
   "source": [
    "#Ingest data\n",
    "train_data = h2o.import_file(path = data_path, destination_frame = \"train_data\")"
   ]
  },
  {
   "cell_type": "code",
   "execution_count": 6,
   "metadata": {},
   "outputs": [
    {
     "data": {
      "text/html": [
       "<table>\n",
       "<thead>\n",
       "<tr><th>AnimalID  </th><th>Name   </th><th>DateTime           </th><th>OutcomeType    </th><th>OutcomeSubtype  </th><th>AnimalType  </th><th>SexuponOutcome  </th><th>AgeuponOutcome  </th><th>Breed                            </th><th>Color      </th></tr>\n",
       "</thead>\n",
       "<tbody>\n",
       "<tr><td>A671945   </td><td>Hambone</td><td>2014-02-12 18:22:00</td><td>Return_to_owner</td><td>                </td><td>Dog         </td><td>Neutered Male   </td><td>1 year          </td><td>Shetland Sheepdog Mix            </td><td>Brown/White</td></tr>\n",
       "<tr><td>A656520   </td><td>Emily  </td><td>2013-10-13 12:44:00</td><td>Euthanasia     </td><td>Suffering       </td><td>Cat         </td><td>Spayed Female   </td><td>1 year          </td><td>Domestic Shorthair Mix           </td><td>Cream Tabby</td></tr>\n",
       "<tr><td>A686464   </td><td>Pearce </td><td>2015-01-31 12:28:00</td><td>Adoption       </td><td>Foster          </td><td>Dog         </td><td>Neutered Male   </td><td>2 years         </td><td>Pit Bull Mix                     </td><td>Blue/White </td></tr>\n",
       "<tr><td>A683430   </td><td>       </td><td>2014-07-11 19:09:00</td><td>Transfer       </td><td>Partner         </td><td>Cat         </td><td>Intact Male     </td><td>3 weeks         </td><td>Domestic Shorthair Mix           </td><td>Blue Cream </td></tr>\n",
       "<tr><td>A667013   </td><td>       </td><td>2013-11-15 12:52:00</td><td>Transfer       </td><td>Partner         </td><td>Dog         </td><td>Neutered Male   </td><td>2 years         </td><td>Lhasa Apso/Miniature Poodle      </td><td>Tan        </td></tr>\n",
       "<tr><td>A677334   </td><td>Elsa   </td><td>2014-04-25 13:04:00</td><td>Transfer       </td><td>Partner         </td><td>Dog         </td><td>Intact Female   </td><td>1 month         </td><td>Cairn Terrier/Chihuahua Shorthair</td><td>Black/Tan  </td></tr>\n",
       "<tr><td>A699218   </td><td>Jimmy  </td><td>2015-03-28 13:11:00</td><td>Transfer       </td><td>Partner         </td><td>Cat         </td><td>Intact Male     </td><td>3 weeks         </td><td>Domestic Shorthair Mix           </td><td>Blue Tabby </td></tr>\n",
       "<tr><td>A701489   </td><td>       </td><td>2015-04-30 17:02:00</td><td>Transfer       </td><td>Partner         </td><td>Cat         </td><td>Unknown         </td><td>3 weeks         </td><td>Domestic Shorthair Mix           </td><td>Brown Tabby</td></tr>\n",
       "<tr><td>A671784   </td><td>Lucy   </td><td>2014-02-04 17:17:00</td><td>Adoption       </td><td>                </td><td>Dog         </td><td>Spayed Female   </td><td>5 months        </td><td>American Pit Bull Terrier Mix    </td><td>Red/White  </td></tr>\n",
       "<tr><td>A677747   </td><td>       </td><td>2014-05-03 07:48:00</td><td>Adoption       </td><td>Offsite         </td><td>Dog         </td><td>Spayed Female   </td><td>1 year          </td><td>Cairn Terrier                    </td><td>White      </td></tr>\n",
       "</tbody>\n",
       "</table>"
      ]
     },
     "metadata": {},
     "output_type": "display_data"
    }
   ],
   "source": [
    "#Peeking inside the data\n",
    "train_data.show()"
   ]
  },
  {
   "cell_type": "code",
   "execution_count": 7,
   "metadata": {},
   "outputs": [
    {
     "name": "stdout",
     "output_type": "stream",
     "text": [
      "Rows:26729\n",
      "Cols:10\n",
      "\n",
      "\n"
     ]
    },
    {
     "data": {
      "text/html": [
       "<table>\n",
       "<thead>\n",
       "<tr><th>       </th><th>AnimalID  </th><th>Name   </th><th>DateTime           </th><th>OutcomeType    </th><th>OutcomeSubtype  </th><th>AnimalType  </th><th>SexuponOutcome  </th><th>AgeuponOutcome  </th><th>Breed                            </th><th>Color      </th></tr>\n",
       "</thead>\n",
       "<tbody>\n",
       "<tr><td>type   </td><td>string    </td><td>enum   </td><td>time               </td><td>enum           </td><td>enum            </td><td>enum        </td><td>enum            </td><td>enum            </td><td>enum                             </td><td>enum       </td></tr>\n",
       "<tr><td>mins   </td><td>NaN       </td><td>       </td><td>1380619860000.0    </td><td>               </td><td>                </td><td>            </td><td>                </td><td>                </td><td>                                 </td><td>           </td></tr>\n",
       "<tr><td>mean   </td><td>NaN       </td><td>       </td><td>1418948543956.0024 </td><td>               </td><td>                </td><td>            </td><td>                </td><td>                </td><td>                                 </td><td>           </td></tr>\n",
       "<tr><td>maxs   </td><td>NaN       </td><td>       </td><td>1456082220000.0    </td><td>               </td><td>                </td><td>            </td><td>                </td><td>                </td><td>                                 </td><td>           </td></tr>\n",
       "<tr><td>sigma  </td><td>NaN       </td><td>       </td><td>21433414554.63326  </td><td>               </td><td>                </td><td>            </td><td>                </td><td>                </td><td>                                 </td><td>           </td></tr>\n",
       "<tr><td>zeros  </td><td>0         </td><td>       </td><td>0                  </td><td>               </td><td>                </td><td>            </td><td>                </td><td>                </td><td>                                 </td><td>           </td></tr>\n",
       "<tr><td>missing</td><td>0         </td><td>7691   </td><td>0                  </td><td>0              </td><td>13612           </td><td>0           </td><td>1               </td><td>18              </td><td>0                                </td><td>0          </td></tr>\n",
       "<tr><td>0      </td><td>A671945   </td><td>Hambone</td><td>2014-02-12 18:22:00</td><td>Return_to_owner</td><td>                </td><td>Dog         </td><td>Neutered Male   </td><td>1 year          </td><td>Shetland Sheepdog Mix            </td><td>Brown/White</td></tr>\n",
       "<tr><td>1      </td><td>A656520   </td><td>Emily  </td><td>2013-10-13 12:44:00</td><td>Euthanasia     </td><td>Suffering       </td><td>Cat         </td><td>Spayed Female   </td><td>1 year          </td><td>Domestic Shorthair Mix           </td><td>Cream Tabby</td></tr>\n",
       "<tr><td>2      </td><td>A686464   </td><td>Pearce </td><td>2015-01-31 12:28:00</td><td>Adoption       </td><td>Foster          </td><td>Dog         </td><td>Neutered Male   </td><td>2 years         </td><td>Pit Bull Mix                     </td><td>Blue/White </td></tr>\n",
       "<tr><td>3      </td><td>A683430   </td><td>       </td><td>2014-07-11 19:09:00</td><td>Transfer       </td><td>Partner         </td><td>Cat         </td><td>Intact Male     </td><td>3 weeks         </td><td>Domestic Shorthair Mix           </td><td>Blue Cream </td></tr>\n",
       "<tr><td>4      </td><td>A667013   </td><td>       </td><td>2013-11-15 12:52:00</td><td>Transfer       </td><td>Partner         </td><td>Dog         </td><td>Neutered Male   </td><td>2 years         </td><td>Lhasa Apso/Miniature Poodle      </td><td>Tan        </td></tr>\n",
       "<tr><td>5      </td><td>A677334   </td><td>Elsa   </td><td>2014-04-25 13:04:00</td><td>Transfer       </td><td>Partner         </td><td>Dog         </td><td>Intact Female   </td><td>1 month         </td><td>Cairn Terrier/Chihuahua Shorthair</td><td>Black/Tan  </td></tr>\n",
       "<tr><td>6      </td><td>A699218   </td><td>Jimmy  </td><td>2015-03-28 13:11:00</td><td>Transfer       </td><td>Partner         </td><td>Cat         </td><td>Intact Male     </td><td>3 weeks         </td><td>Domestic Shorthair Mix           </td><td>Blue Tabby </td></tr>\n",
       "<tr><td>7      </td><td>A701489   </td><td>       </td><td>2015-04-30 17:02:00</td><td>Transfer       </td><td>Partner         </td><td>Cat         </td><td>Unknown         </td><td>3 weeks         </td><td>Domestic Shorthair Mix           </td><td>Brown Tabby</td></tr>\n",
       "<tr><td>8      </td><td>A671784   </td><td>Lucy   </td><td>2014-02-04 17:17:00</td><td>Adoption       </td><td>                </td><td>Dog         </td><td>Spayed Female   </td><td>5 months        </td><td>American Pit Bull Terrier Mix    </td><td>Red/White  </td></tr>\n",
       "<tr><td>9      </td><td>A677747   </td><td>       </td><td>2014-05-03 07:48:00</td><td>Adoption       </td><td>Offsite         </td><td>Dog         </td><td>Spayed Female   </td><td>1 year          </td><td>Cairn Terrier                    </td><td>White      </td></tr>\n",
       "</tbody>\n",
       "</table>"
      ]
     },
     "metadata": {},
     "output_type": "display_data"
    }
   ],
   "source": [
    "# used to gain statistical information of the columns present in the dataset\n",
    "train_data.describe()"
   ]
  },
  {
   "cell_type": "code",
   "execution_count": 8,
   "metadata": {},
   "outputs": [
    {
     "name": "stdout",
     "output_type": "stream",
     "text": [
      "['Name', 'OutcomeSubtype', 'AnimalType', 'SexuponOutcome', 'AgeuponOutcome', 'Breed', 'Color', 'AnimalID', 'DateTime']\n"
     ]
    }
   ],
   "source": [
    "target = 'OutcomeType'\n",
    "\n",
    "def get_independent_variables(train_data, targ):\n",
    "    C = [name for name in train_data.columns if name != targ]\n",
    "    # determine column types\n",
    "    ints, reals, enums = [], [], []\n",
    "    for key, val in train_data.types.items():\n",
    "        if key in C:\n",
    "            if val == 'enum':\n",
    "                enums.append(key)\n",
    "            elif val == 'int':\n",
    "                ints.append(key)            \n",
    "            else: \n",
    "                reals.append(key)    \n",
    "    x = ints + enums + reals\n",
    "    return x\n",
    "\n",
    "X = get_independent_variables(train_data, target) \n",
    "print(X)\n",
    "y = target"
   ]
  },
  {
   "cell_type": "code",
   "execution_count": 9,
   "metadata": {},
   "outputs": [],
   "source": [
    "train_data[y] = train_data[y].asfactor()"
   ]
  },
  {
   "cell_type": "code",
   "execution_count": 10,
   "metadata": {},
   "outputs": [
    {
     "name": "stdout",
     "output_type": "stream",
     "text": [
      "Rows:26729\n",
      "Cols:10\n",
      "\n",
      "\n"
     ]
    },
    {
     "data": {
      "text/html": [
       "<table>\n",
       "<thead>\n",
       "<tr><th>       </th><th>AnimalID  </th><th>Name   </th><th>DateTime           </th><th>OutcomeType    </th><th>OutcomeSubtype  </th><th>AnimalType  </th><th>SexuponOutcome  </th><th>AgeuponOutcome  </th><th>Breed                            </th><th>Color      </th></tr>\n",
       "</thead>\n",
       "<tbody>\n",
       "<tr><td>type   </td><td>string    </td><td>enum   </td><td>time               </td><td>enum           </td><td>enum            </td><td>enum        </td><td>enum            </td><td>enum            </td><td>enum                             </td><td>enum       </td></tr>\n",
       "<tr><td>mins   </td><td>NaN       </td><td>       </td><td>1380619860000.0    </td><td>               </td><td>                </td><td>            </td><td>                </td><td>                </td><td>                                 </td><td>           </td></tr>\n",
       "<tr><td>mean   </td><td>NaN       </td><td>       </td><td>1418948543956.0024 </td><td>               </td><td>                </td><td>            </td><td>                </td><td>                </td><td>                                 </td><td>           </td></tr>\n",
       "<tr><td>maxs   </td><td>NaN       </td><td>       </td><td>1456082220000.0    </td><td>               </td><td>                </td><td>            </td><td>                </td><td>                </td><td>                                 </td><td>           </td></tr>\n",
       "<tr><td>sigma  </td><td>NaN       </td><td>       </td><td>21433414554.63326  </td><td>               </td><td>                </td><td>            </td><td>                </td><td>                </td><td>                                 </td><td>           </td></tr>\n",
       "<tr><td>zeros  </td><td>0         </td><td>       </td><td>0                  </td><td>               </td><td>                </td><td>            </td><td>                </td><td>                </td><td>                                 </td><td>           </td></tr>\n",
       "<tr><td>missing</td><td>0         </td><td>7691   </td><td>0                  </td><td>0              </td><td>13612           </td><td>0           </td><td>1               </td><td>18              </td><td>0                                </td><td>0          </td></tr>\n",
       "<tr><td>0      </td><td>A671945   </td><td>Hambone</td><td>2014-02-12 18:22:00</td><td>Return_to_owner</td><td>                </td><td>Dog         </td><td>Neutered Male   </td><td>1 year          </td><td>Shetland Sheepdog Mix            </td><td>Brown/White</td></tr>\n",
       "<tr><td>1      </td><td>A656520   </td><td>Emily  </td><td>2013-10-13 12:44:00</td><td>Euthanasia     </td><td>Suffering       </td><td>Cat         </td><td>Spayed Female   </td><td>1 year          </td><td>Domestic Shorthair Mix           </td><td>Cream Tabby</td></tr>\n",
       "<tr><td>2      </td><td>A686464   </td><td>Pearce </td><td>2015-01-31 12:28:00</td><td>Adoption       </td><td>Foster          </td><td>Dog         </td><td>Neutered Male   </td><td>2 years         </td><td>Pit Bull Mix                     </td><td>Blue/White </td></tr>\n",
       "<tr><td>3      </td><td>A683430   </td><td>       </td><td>2014-07-11 19:09:00</td><td>Transfer       </td><td>Partner         </td><td>Cat         </td><td>Intact Male     </td><td>3 weeks         </td><td>Domestic Shorthair Mix           </td><td>Blue Cream </td></tr>\n",
       "<tr><td>4      </td><td>A667013   </td><td>       </td><td>2013-11-15 12:52:00</td><td>Transfer       </td><td>Partner         </td><td>Dog         </td><td>Neutered Male   </td><td>2 years         </td><td>Lhasa Apso/Miniature Poodle      </td><td>Tan        </td></tr>\n",
       "<tr><td>5      </td><td>A677334   </td><td>Elsa   </td><td>2014-04-25 13:04:00</td><td>Transfer       </td><td>Partner         </td><td>Dog         </td><td>Intact Female   </td><td>1 month         </td><td>Cairn Terrier/Chihuahua Shorthair</td><td>Black/Tan  </td></tr>\n",
       "<tr><td>6      </td><td>A699218   </td><td>Jimmy  </td><td>2015-03-28 13:11:00</td><td>Transfer       </td><td>Partner         </td><td>Cat         </td><td>Intact Male     </td><td>3 weeks         </td><td>Domestic Shorthair Mix           </td><td>Blue Tabby </td></tr>\n",
       "<tr><td>7      </td><td>A701489   </td><td>       </td><td>2015-04-30 17:02:00</td><td>Transfer       </td><td>Partner         </td><td>Cat         </td><td>Unknown         </td><td>3 weeks         </td><td>Domestic Shorthair Mix           </td><td>Brown Tabby</td></tr>\n",
       "<tr><td>8      </td><td>A671784   </td><td>Lucy   </td><td>2014-02-04 17:17:00</td><td>Adoption       </td><td>                </td><td>Dog         </td><td>Spayed Female   </td><td>5 months        </td><td>American Pit Bull Terrier Mix    </td><td>Red/White  </td></tr>\n",
       "<tr><td>9      </td><td>A677747   </td><td>       </td><td>2014-05-03 07:48:00</td><td>Adoption       </td><td>Offsite         </td><td>Dog         </td><td>Spayed Female   </td><td>1 year          </td><td>Cairn Terrier                    </td><td>White      </td></tr>\n",
       "</tbody>\n",
       "</table>"
      ]
     },
     "metadata": {},
     "output_type": "display_data"
    }
   ],
   "source": [
    "train_data.describe()"
   ]
  },
  {
   "cell_type": "code",
   "execution_count": 11,
   "metadata": {},
   "outputs": [],
   "source": [
    "# setup autoML\n",
    "# min_mem_size=6 \n",
    "run_time=333\n",
    "aml = H2OAutoML(max_runtime_secs=run_time)"
   ]
  },
  {
   "cell_type": "code",
   "execution_count": 12,
   "metadata": {},
   "outputs": [],
   "source": [
    "os.getcwd()\n",
    "os.chdir('../logs')\n",
    "logs_path = os.getcwd()\n",
    "logfile = 'logs.txt'"
   ]
  },
  {
   "cell_type": "code",
   "execution_count": 13,
   "metadata": {},
   "outputs": [
    {
     "name": "stdout",
     "output_type": "stream",
     "text": [
      "AutoML progress: |████████████████████████████████████████████████████████| 100%\n"
     ]
    }
   ],
   "source": [
    "model_start_time = time.time()\n",
    "  \n",
    "try:\n",
    "  aml.train(x=X,y=y,training_frame=train_data)  # Change training_frame=train\n",
    "except Exception as e:\n",
    "  logging.critical('aml.train') \n",
    "  h2o.download_all_logs(dirname=logs_path, filename=logfile)      \n",
    "  h2o.cluster().shutdown()   \n",
    "  sys.exit(4)"
   ]
  },
  {
   "cell_type": "code",
   "execution_count": 14,
   "metadata": {},
   "outputs": [
    {
     "data": {
      "text/plain": [
       "{'model_execution_time': {'classification': 396.367413520813}}"
      ]
     },
     "execution_count": 14,
     "metadata": {},
     "output_type": "execute_result"
    }
   ],
   "source": [
    "meta_data={}\n",
    "meta_data['model_execution_time'] = {\"classification\":(time.time() - model_start_time)}\n",
    "meta_data\n",
    "# d = meta_data['model_execution_time']\n",
    "# d['classification'] = (time.time() - model_start_time)\n",
    "# meta_data['model_execution_time'] = d"
   ]
  },
  {
   "cell_type": "code",
   "execution_count": 15,
   "metadata": {},
   "outputs": [
    {
     "data": {
      "text/html": [
       "<table>\n",
       "<thead>\n",
       "<tr><th>model_id                                           </th><th style=\"text-align: right;\">  mean_per_class_error</th><th style=\"text-align: right;\">  logloss</th><th style=\"text-align: right;\">    rmse</th><th style=\"text-align: right;\">      mse</th></tr>\n",
       "</thead>\n",
       "<tbody>\n",
       "<tr><td>StackedEnsemble_BestOfFamily_AutoML_20190301_191249</td><td style=\"text-align: right;\">              0.121668</td><td style=\"text-align: right;\"> 0.254196</td><td style=\"text-align: right;\">0.289491</td><td style=\"text-align: right;\">0.083805 </td></tr>\n",
       "<tr><td>StackedEnsemble_AllModels_AutoML_20190301_191249   </td><td style=\"text-align: right;\">              0.12235 </td><td style=\"text-align: right;\"> 0.254512</td><td style=\"text-align: right;\">0.290201</td><td style=\"text-align: right;\">0.0842165</td></tr>\n",
       "<tr><td>GBM_4_AutoML_20190301_191249                       </td><td style=\"text-align: right;\">              0.12392 </td><td style=\"text-align: right;\"> 0.264017</td><td style=\"text-align: right;\">0.295436</td><td style=\"text-align: right;\">0.0872824</td></tr>\n",
       "<tr><td>GBM_2_AutoML_20190301_191249                       </td><td style=\"text-align: right;\">              0.12424 </td><td style=\"text-align: right;\"> 0.258505</td><td style=\"text-align: right;\">0.292989</td><td style=\"text-align: right;\">0.0858424</td></tr>\n",
       "<tr><td>GBM_3_AutoML_20190301_191249                       </td><td style=\"text-align: right;\">              0.124379</td><td style=\"text-align: right;\"> 0.25966 </td><td style=\"text-align: right;\">0.29342 </td><td style=\"text-align: right;\">0.0860951</td></tr>\n",
       "<tr><td>GBM_5_AutoML_20190301_191249                       </td><td style=\"text-align: right;\">              0.125098</td><td style=\"text-align: right;\"> 0.266642</td><td style=\"text-align: right;\">0.296484</td><td style=\"text-align: right;\">0.0879026</td></tr>\n",
       "<tr><td>GBM_1_AutoML_20190301_191249                       </td><td style=\"text-align: right;\">              0.125354</td><td style=\"text-align: right;\"> 0.260985</td><td style=\"text-align: right;\">0.293869</td><td style=\"text-align: right;\">0.086359 </td></tr>\n",
       "<tr><td>GBM_grid_1_AutoML_20190301_191249_model_1          </td><td style=\"text-align: right;\">              0.129205</td><td style=\"text-align: right;\"> 0.282684</td><td style=\"text-align: right;\">0.30016 </td><td style=\"text-align: right;\">0.0900957</td></tr>\n",
       "<tr><td>DRF_1_AutoML_20190301_191249                       </td><td style=\"text-align: right;\">              0.129657</td><td style=\"text-align: right;\"> 0.298799</td><td style=\"text-align: right;\">0.300436</td><td style=\"text-align: right;\">0.0902615</td></tr>\n",
       "<tr><td>GBM_grid_1_AutoML_20190301_191249_model_3          </td><td style=\"text-align: right;\">              0.130044</td><td style=\"text-align: right;\"> 0.316995</td><td style=\"text-align: right;\">0.31381 </td><td style=\"text-align: right;\">0.0984767</td></tr>\n",
       "</tbody>\n",
       "</table>"
      ]
     },
     "metadata": {},
     "output_type": "display_data"
    },
    {
     "name": "stdout",
     "output_type": "stream",
     "text": [
      "\n"
     ]
    }
   ],
   "source": [
    "print(aml.leaderboard)"
   ]
  },
  {
   "cell_type": "code",
   "execution_count": 16,
   "metadata": {},
   "outputs": [],
   "source": [
    "best_model = h2o.get_model(aml.leaderboard[0,'model_id'])"
   ]
  },
  {
   "cell_type": "code",
   "execution_count": 17,
   "metadata": {},
   "outputs": [
    {
     "data": {
      "text/plain": [
       "'stackedensemble'"
      ]
     },
     "execution_count": 17,
     "metadata": {},
     "output_type": "execute_result"
    }
   ],
   "source": [
    "best_model.algo"
   ]
  },
  {
   "cell_type": "code",
   "execution_count": 18,
   "metadata": {},
   "outputs": [
    {
     "name": "stdout",
     "output_type": "stream",
     "text": [
      "0.16640998354514233\n"
     ]
    }
   ],
   "source": [
    "print(best_model.logloss(train = True))"
   ]
  },
  {
   "cell_type": "markdown",
   "metadata": {},
   "source": [
    "## Save the leaderboard model\n",
    "\n",
    "There are two ways to save the leader model -- binary format and MOJO format. If you're taking your leader model to production, then usually it is stored in MOJO(Model ObJect, Optimized) format since it's optimized for production use."
   ]
  },
  {
   "cell_type": "code",
   "execution_count": 29,
   "metadata": {},
   "outputs": [
    {
     "data": {
      "text/plain": [
       "'C:\\\\Users\\\\amiga\\\\OneDrive\\\\Desktop\\\\Academics\\\\BDIA\\\\assgn2\\\\Top-1-percent-in-Kaggle-Competition\\\\logs\\\\StackedEnsemble_BestOfFamily_AutoML_20190301_191249.zip'"
      ]
     },
     "execution_count": 29,
     "metadata": {},
     "output_type": "execute_result"
    }
   ],
   "source": [
    "aml.leader.download_mojo(path = \"./\")"
   ]
  },
  {
   "cell_type": "markdown",
   "metadata": {},
   "source": [
    "## RESULTS"
   ]
  },
  {
   "cell_type": "markdown",
   "metadata": {},
   "source": [
    "Our evaluation metric is logloss for this dataset. The best on the kaggle leaderboard is logloss = 0.0000 whereas we get the logloss = 0.1485 for the first model while running it on H2O. We stand 3rd on the Kaggle public leaderboard and hence we are in the top 1% in this competition. Following is the leaderboard link for this competition:\n",
    "\n",
    "[Kaggle Leaderboard](https://www.kaggle.com/c/shelter-animal-outcomes/leaderboard)\n"
   ]
  },
  {
   "cell_type": "markdown",
   "metadata": {},
   "source": [
    "# Optimizing existing Kaggle Kernel"
   ]
  },
  {
   "cell_type": "code",
   "execution_count": 153,
   "metadata": {},
   "outputs": [
    {
     "data": {
      "text/html": [
       "<div>\n",
       "<style scoped>\n",
       "    .dataframe tbody tr th:only-of-type {\n",
       "        vertical-align: middle;\n",
       "    }\n",
       "\n",
       "    .dataframe tbody tr th {\n",
       "        vertical-align: top;\n",
       "    }\n",
       "\n",
       "    .dataframe thead th {\n",
       "        text-align: right;\n",
       "    }\n",
       "</style>\n",
       "<table border=\"1\" class=\"dataframe\">\n",
       "  <thead>\n",
       "    <tr style=\"text-align: right;\">\n",
       "      <th></th>\n",
       "      <th>AnimalID</th>\n",
       "      <th>Name</th>\n",
       "      <th>DateTime</th>\n",
       "      <th>OutcomeType</th>\n",
       "      <th>OutcomeSubtype</th>\n",
       "      <th>AnimalType</th>\n",
       "      <th>SexuponOutcome</th>\n",
       "      <th>AgeuponOutcome</th>\n",
       "      <th>Breed</th>\n",
       "      <th>Color</th>\n",
       "    </tr>\n",
       "  </thead>\n",
       "  <tbody>\n",
       "    <tr>\n",
       "      <th>0</th>\n",
       "      <td>A671945</td>\n",
       "      <td>Hambone</td>\n",
       "      <td>2014-02-12 18:22:00</td>\n",
       "      <td>Return_to_owner</td>\n",
       "      <td>NaN</td>\n",
       "      <td>Dog</td>\n",
       "      <td>Neutered Male</td>\n",
       "      <td>1 year</td>\n",
       "      <td>Shetland Sheepdog Mix</td>\n",
       "      <td>Brown/White</td>\n",
       "    </tr>\n",
       "    <tr>\n",
       "      <th>1</th>\n",
       "      <td>A656520</td>\n",
       "      <td>Emily</td>\n",
       "      <td>2013-10-13 12:44:00</td>\n",
       "      <td>Euthanasia</td>\n",
       "      <td>Suffering</td>\n",
       "      <td>Cat</td>\n",
       "      <td>Spayed Female</td>\n",
       "      <td>1 year</td>\n",
       "      <td>Domestic Shorthair Mix</td>\n",
       "      <td>Cream Tabby</td>\n",
       "    </tr>\n",
       "    <tr>\n",
       "      <th>2</th>\n",
       "      <td>A686464</td>\n",
       "      <td>Pearce</td>\n",
       "      <td>2015-01-31 12:28:00</td>\n",
       "      <td>Adoption</td>\n",
       "      <td>Foster</td>\n",
       "      <td>Dog</td>\n",
       "      <td>Neutered Male</td>\n",
       "      <td>2 years</td>\n",
       "      <td>Pit Bull Mix</td>\n",
       "      <td>Blue/White</td>\n",
       "    </tr>\n",
       "    <tr>\n",
       "      <th>3</th>\n",
       "      <td>A683430</td>\n",
       "      <td>NaN</td>\n",
       "      <td>2014-07-11 19:09:00</td>\n",
       "      <td>Transfer</td>\n",
       "      <td>Partner</td>\n",
       "      <td>Cat</td>\n",
       "      <td>Intact Male</td>\n",
       "      <td>3 weeks</td>\n",
       "      <td>Domestic Shorthair Mix</td>\n",
       "      <td>Blue Cream</td>\n",
       "    </tr>\n",
       "    <tr>\n",
       "      <th>4</th>\n",
       "      <td>A667013</td>\n",
       "      <td>NaN</td>\n",
       "      <td>2013-11-15 12:52:00</td>\n",
       "      <td>Transfer</td>\n",
       "      <td>Partner</td>\n",
       "      <td>Dog</td>\n",
       "      <td>Neutered Male</td>\n",
       "      <td>2 years</td>\n",
       "      <td>Lhasa Apso/Miniature Poodle</td>\n",
       "      <td>Tan</td>\n",
       "    </tr>\n",
       "  </tbody>\n",
       "</table>\n",
       "</div>"
      ],
      "text/plain": [
       "  AnimalID     Name             DateTime      OutcomeType OutcomeSubtype  \\\n",
       "0  A671945  Hambone  2014-02-12 18:22:00  Return_to_owner            NaN   \n",
       "1  A656520    Emily  2013-10-13 12:44:00       Euthanasia      Suffering   \n",
       "2  A686464   Pearce  2015-01-31 12:28:00         Adoption         Foster   \n",
       "3  A683430      NaN  2014-07-11 19:09:00         Transfer        Partner   \n",
       "4  A667013      NaN  2013-11-15 12:52:00         Transfer        Partner   \n",
       "\n",
       "  AnimalType SexuponOutcome AgeuponOutcome                        Breed  \\\n",
       "0        Dog  Neutered Male         1 year        Shetland Sheepdog Mix   \n",
       "1        Cat  Spayed Female         1 year       Domestic Shorthair Mix   \n",
       "2        Dog  Neutered Male        2 years                 Pit Bull Mix   \n",
       "3        Cat    Intact Male        3 weeks       Domestic Shorthair Mix   \n",
       "4        Dog  Neutered Male        2 years  Lhasa Apso/Miniature Poodle   \n",
       "\n",
       "         Color  \n",
       "0  Brown/White  \n",
       "1  Cream Tabby  \n",
       "2   Blue/White  \n",
       "3   Blue Cream  \n",
       "4          Tan  "
      ]
     },
     "execution_count": 153,
     "metadata": {},
     "output_type": "execute_result"
    }
   ],
   "source": [
    "animals = pd.read_csv(data_path)\n",
    "animals.head()"
   ]
  },
  {
   "cell_type": "code",
   "execution_count": 74,
   "metadata": {},
   "outputs": [
    {
     "data": {
      "text/html": [
       "<div>\n",
       "<style scoped>\n",
       "    .dataframe tbody tr th:only-of-type {\n",
       "        vertical-align: middle;\n",
       "    }\n",
       "\n",
       "    .dataframe tbody tr th {\n",
       "        vertical-align: top;\n",
       "    }\n",
       "\n",
       "    .dataframe thead th {\n",
       "        text-align: right;\n",
       "    }\n",
       "</style>\n",
       "<table border=\"1\" class=\"dataframe\">\n",
       "  <thead>\n",
       "    <tr style=\"text-align: right;\">\n",
       "      <th></th>\n",
       "      <th>AnimalID</th>\n",
       "      <th>Name</th>\n",
       "      <th>DateTime</th>\n",
       "      <th>OutcomeType</th>\n",
       "      <th>OutcomeSubtype</th>\n",
       "      <th>AnimalType</th>\n",
       "      <th>SexuponOutcome</th>\n",
       "      <th>AgeuponOutcome</th>\n",
       "      <th>Breed</th>\n",
       "      <th>Color</th>\n",
       "    </tr>\n",
       "  </thead>\n",
       "  <tbody>\n",
       "    <tr>\n",
       "      <th>count</th>\n",
       "      <td>26729</td>\n",
       "      <td>19038</td>\n",
       "      <td>26729</td>\n",
       "      <td>26729</td>\n",
       "      <td>13117</td>\n",
       "      <td>26729</td>\n",
       "      <td>26728</td>\n",
       "      <td>26711</td>\n",
       "      <td>26729</td>\n",
       "      <td>26729</td>\n",
       "    </tr>\n",
       "    <tr>\n",
       "      <th>unique</th>\n",
       "      <td>26729</td>\n",
       "      <td>6374</td>\n",
       "      <td>22918</td>\n",
       "      <td>5</td>\n",
       "      <td>16</td>\n",
       "      <td>2</td>\n",
       "      <td>5</td>\n",
       "      <td>44</td>\n",
       "      <td>1380</td>\n",
       "      <td>366</td>\n",
       "    </tr>\n",
       "    <tr>\n",
       "      <th>top</th>\n",
       "      <td>A687659</td>\n",
       "      <td>Max</td>\n",
       "      <td>2015-08-11 00:00:00</td>\n",
       "      <td>Adoption</td>\n",
       "      <td>Partner</td>\n",
       "      <td>Dog</td>\n",
       "      <td>Neutered Male</td>\n",
       "      <td>1 year</td>\n",
       "      <td>Domestic Shorthair Mix</td>\n",
       "      <td>Black/White</td>\n",
       "    </tr>\n",
       "    <tr>\n",
       "      <th>freq</th>\n",
       "      <td>1</td>\n",
       "      <td>136</td>\n",
       "      <td>19</td>\n",
       "      <td>10769</td>\n",
       "      <td>7816</td>\n",
       "      <td>15595</td>\n",
       "      <td>9779</td>\n",
       "      <td>3969</td>\n",
       "      <td>8810</td>\n",
       "      <td>2824</td>\n",
       "    </tr>\n",
       "  </tbody>\n",
       "</table>\n",
       "</div>"
      ],
      "text/plain": [
       "       AnimalID   Name             DateTime OutcomeType OutcomeSubtype  \\\n",
       "count     26729  19038                26729       26729          13117   \n",
       "unique    26729   6374                22918           5             16   \n",
       "top     A687659    Max  2015-08-11 00:00:00    Adoption        Partner   \n",
       "freq          1    136                   19       10769           7816   \n",
       "\n",
       "       AnimalType SexuponOutcome AgeuponOutcome                   Breed  \\\n",
       "count       26729          26728          26711                   26729   \n",
       "unique          2              5             44                    1380   \n",
       "top           Dog  Neutered Male         1 year  Domestic Shorthair Mix   \n",
       "freq        15595           9779           3969                    8810   \n",
       "\n",
       "              Color  \n",
       "count         26729  \n",
       "unique          366  \n",
       "top     Black/White  \n",
       "freq           2824  "
      ]
     },
     "execution_count": 74,
     "metadata": {},
     "output_type": "execute_result"
    }
   ],
   "source": [
    "# statistical description\n",
    "animals.describe()"
   ]
  },
  {
   "cell_type": "code",
   "execution_count": 75,
   "metadata": {},
   "outputs": [
    {
     "name": "stdout",
     "output_type": "stream",
     "text": [
      "<class 'pandas.core.frame.DataFrame'>\n",
      "RangeIndex: 26729 entries, 0 to 26728\n",
      "Data columns (total 10 columns):\n",
      "AnimalID          26729 non-null object\n",
      "Name              19038 non-null object\n",
      "DateTime          26729 non-null object\n",
      "OutcomeType       26729 non-null object\n",
      "OutcomeSubtype    13117 non-null object\n",
      "AnimalType        26729 non-null object\n",
      "SexuponOutcome    26728 non-null object\n",
      "AgeuponOutcome    26711 non-null object\n",
      "Breed             26729 non-null object\n",
      "Color             26729 non-null object\n",
      "dtypes: object(10)\n",
      "memory usage: 2.0+ MB\n"
     ]
    }
   ],
   "source": [
    "# detailed information about animals\n",
    "animals.info()"
   ]
  },
  {
   "cell_type": "markdown",
   "metadata": {},
   "source": [
    "From above we see that the data does not contain any null values and it seems to be complete."
   ]
  },
  {
   "cell_type": "code",
   "execution_count": 154,
   "metadata": {},
   "outputs": [
    {
     "name": "stdout",
     "output_type": "stream",
     "text": [
      "<class 'pandas.core.frame.DataFrame'>\n",
      "RangeIndex: 26729 entries, 0 to 26728\n",
      "Data columns (total 10 columns):\n",
      "AnimalID          26729 non-null object\n",
      "Name              19038 non-null object\n",
      "DateTime          26729 non-null object\n",
      "OutcomeType       26729 non-null category\n",
      "OutcomeSubtype    13117 non-null category\n",
      "AnimalType        26729 non-null category\n",
      "SexuponOutcome    26728 non-null category\n",
      "AgeuponOutcome    26711 non-null category\n",
      "Breed             26729 non-null category\n",
      "Color             26729 non-null category\n",
      "dtypes: category(7), object(3)\n",
      "memory usage: 927.9+ KB\n"
     ]
    }
   ],
   "source": [
    "# converting columns to categorical\n",
    "cat_columns = ['OutcomeType', 'OutcomeSubtype', 'AnimalType', 'SexuponOutcome', 'AgeuponOutcome', 'Breed', 'Color']\n",
    "for col in cat_columns:\n",
    "    animals[col] = animals[col].astype('category')\n",
    "\n",
    "animals.info()"
   ]
  },
  {
   "cell_type": "code",
   "execution_count": 155,
   "metadata": {},
   "outputs": [],
   "source": [
    "# dateTime,AnimalId and Name does not play any significant role in classifying outcomeType, hence dropping the column\n",
    "animals = animals.drop('DateTime', axis=1)\n",
    "animals = animals.drop('AnimalID', axis=1)\n",
    "animals = animals.drop('Name', axis=1)"
   ]
  },
  {
   "cell_type": "code",
   "execution_count": 156,
   "metadata": {},
   "outputs": [
    {
     "name": "stdout",
     "output_type": "stream",
     "text": [
      "[Return_to_owner, Euthanasia, Adoption, Transfer, Died]\n",
      "Categories (5, object): [Return_to_owner, Euthanasia, Adoption, Transfer, Died]\n",
      "[NaN, Suffering, Foster, Partner, Offsite, ..., Barn, Court/Investigation, Enroute, At Vet, In Surgery]\n",
      "Length: 17\n",
      "Categories (16, object): [Suffering, Foster, Partner, Offsite, ..., Court/Investigation, Enroute, At Vet, In Surgery]\n",
      "[Dog, Cat]\n",
      "Categories (2, object): [Dog, Cat]\n",
      "[Neutered Male, Spayed Female, Intact Male, Intact Female, Unknown, NaN]\n",
      "Categories (5, object): [Neutered Male, Spayed Female, Intact Male, Intact Female, Unknown]\n",
      "[1 year, 2 years, 3 weeks, 1 month, 5 months, ..., NaN, 17 years, 18 years, 19 years, 20 years]\n",
      "Length: 45\n",
      "Categories (44, object): [1 year, 2 years, 3 weeks, 1 month, ..., 17 years, 18 years, 19 years, 20 years]\n",
      "[Shetland Sheepdog Mix, Domestic Shorthair Mix, Pit Bull Mix, Lhasa Apso/Miniature Poodle, Cairn Terrier/Chihuahua Shorthair, ..., Boxer/Neapolitan Mastiff, French Bulldog/English Bulldog, Vizsla/Boxer, German Shepherd/Australian Kelpie, Boxer/German Shepherd]\n",
      "Length: 1380\n",
      "Categories (1380, object): [Shetland Sheepdog Mix, Domestic Shorthair Mix, Pit Bull Mix, Lhasa Apso/Miniature Poodle, ..., French Bulldog/English Bulldog, Vizsla/Boxer, German Shepherd/Australian Kelpie, Boxer/German Shepherd]\n",
      "[Brown/White, Cream Tabby, Blue/White, Blue Cream, Tan, ..., Yellow/Yellow, Gray Tabby/Black, Red/Silver, Buff/Brown, Sable/Buff]\n",
      "Length: 366\n",
      "Categories (366, object): [Brown/White, Cream Tabby, Blue/White, Blue Cream, ..., Gray Tabby/Black, Red/Silver, Buff/Brown, Sable/Buff]\n"
     ]
    }
   ],
   "source": [
    "cat_columns = ['OutcomeType', 'OutcomeSubtype', 'AnimalType', 'SexuponOutcome', 'AgeuponOutcome', 'Breed', 'Color']\n",
    "for col in cat_columns:\n",
    "    print(animals[col].unique())"
   ]
  },
  {
   "cell_type": "markdown",
   "metadata": {},
   "source": [
    "### Exploring our target variable:"
   ]
  },
  {
   "cell_type": "code",
   "execution_count": 39,
   "metadata": {},
   "outputs": [
    {
     "data": {
      "text/plain": [
       "<matplotlib.axes._subplots.AxesSubplot at 0x1835dfc5a58>"
      ]
     },
     "execution_count": 39,
     "metadata": {},
     "output_type": "execute_result"
    },
    {
     "data": {
      "image/png": "[encoded data removed]",
      "text/plain": [
       "<Figure size 432x288 with 1 Axes>"
      ]
     },
     "metadata": {
      "needs_background": "light"
     },
     "output_type": "display_data"
    }
   ],
   "source": [
    "sns.countplot(animals.OutcomeType, palette='Set3')"
   ]
  },
  {
   "cell_type": "markdown",
   "metadata": {},
   "source": [
    "### Exploring our features:"
   ]
  },
  {
   "cell_type": "code",
   "execution_count": 25,
   "metadata": {},
   "outputs": [
    {
     "data": {
      "text/plain": [
       "<matplotlib.axes._subplots.AxesSubplot at 0x1835cbef198>"
      ]
     },
     "execution_count": 25,
     "metadata": {},
     "output_type": "execute_result"
    },
    {
     "data": {
      "image/png": "[encoded data removed]",
      "text/plain": [
       "<Figure size 432x288 with 1 Axes>"
      ]
     },
     "metadata": {
      "needs_background": "light"
     },
     "output_type": "display_data"
    }
   ],
   "source": [
    "sns.countplot(animals.AnimalType, palette='Set3')"
   ]
  },
  {
   "cell_type": "code",
   "execution_count": 36,
   "metadata": {},
   "outputs": [
    {
     "data": {
      "text/plain": [
       "<matplotlib.axes._subplots.AxesSubplot at 0x1835de86b00>"
      ]
     },
     "execution_count": 36,
     "metadata": {},
     "output_type": "execute_result"
    },
    {
     "data": {
      "image/png": "[encoded data removed]",
      "text/plain": [
       "<Figure size 432x288 with 1 Axes>"
      ]
     },
     "metadata": {
      "needs_background": "light"
     },
     "output_type": "display_data"
    }
   ],
   "source": [
    "sns.countplot(animals.SexuponOutcome, palette='Set3')"
   ]
  },
  {
   "cell_type": "markdown",
   "metadata": {},
   "source": [
    "### Feature Engineering:"
   ]
  },
  {
   "cell_type": "code",
   "execution_count": 124,
   "metadata": {},
   "outputs": [
    {
     "data": {
      "text/plain": [
       "Neutered Male    9779\n",
       "Spayed Female    8820\n",
       "Intact Male      3525\n",
       "Intact Female    3511\n",
       "Unknown          1093\n",
       "Name: SexuponOutcome, dtype: int64"
      ]
     },
     "execution_count": 124,
     "metadata": {},
     "output_type": "execute_result"
    }
   ],
   "source": [
    "# check different values for SexuponOutcome\n",
    "animals['SexuponOutcome'].value_counts()"
   ]
  },
  {
   "cell_type": "code",
   "execution_count": 157,
   "metadata": {},
   "outputs": [
    {
     "data": {
      "text/plain": [
       "1"
      ]
     },
     "execution_count": 157,
     "metadata": {},
     "output_type": "execute_result"
    }
   ],
   "source": [
    "# check for null values\n",
    "animals['SexuponOutcome'].isna().sum()"
   ]
  },
  {
   "cell_type": "code",
   "execution_count": 158,
   "metadata": {},
   "outputs": [],
   "source": [
    "# lets fill the nan value with unknown type\n",
    "animals['SexuponOutcome'] = animals['SexuponOutcome'].fillna('Unknown')"
   ]
  },
  {
   "cell_type": "code",
   "execution_count": 159,
   "metadata": {},
   "outputs": [],
   "source": [
    "# functions to create new features, sex and neutered\n",
    "def get_sex(x):\n",
    "    x = str(x)\n",
    "    if x.find('Male') >= 0: return 'male'\n",
    "    if x.find('Female') >= 0: return 'female'\n",
    "    return 'unknown'\n",
    "def get_neutered(x):\n",
    "    x = str(x)\n",
    "    if x.find('Spayed') >= 0: return 'neutered'\n",
    "    if x.find('Neutered') >= 0: return 'neutered'\n",
    "    if x.find('Intact') >= 0: return 'intact'\n",
    "    return 'unknown'"
   ]
  },
  {
   "cell_type": "code",
   "execution_count": 160,
   "metadata": {},
   "outputs": [
    {
     "data": {
      "text/plain": [
       "<matplotlib.axes._subplots.AxesSubplot at 0x18361e5f780>"
      ]
     },
     "execution_count": 160,
     "metadata": {},
     "output_type": "execute_result"
    },
    {
     "data": {
      "image/png": "[encoded data removed]",
      "text/plain": [
       "<Figure size 1080x288 with 2 Axes>"
      ]
     },
     "metadata": {
      "needs_background": "light"
     },
     "output_type": "display_data"
    }
   ],
   "source": [
    "animals['Sex'] = animals.SexuponOutcome.apply(get_sex)\n",
    "animals['Neutered'] = animals.SexuponOutcome.apply(get_neutered)\n",
    "f, (ax1, ax2) = plt.subplots(1, 2, figsize=(15, 4))\n",
    "sns.countplot(animals.Sex, palette='Set3', ax=ax1)\n",
    "sns.countplot(animals.Neutered, palette='Set3', ax=ax2)"
   ]
  },
  {
   "cell_type": "code",
   "execution_count": 161,
   "metadata": {},
   "outputs": [],
   "source": [
    "# lets now drop SexuponOutcome column\n",
    "animals = animals.drop('SexuponOutcome', axis = 1)"
   ]
  },
  {
   "cell_type": "code",
   "execution_count": 162,
   "metadata": {},
   "outputs": [
    {
     "data": {
      "text/plain": [
       "<matplotlib.axes._subplots.AxesSubplot at 0x18362061320>"
      ]
     },
     "execution_count": 162,
     "metadata": {},
     "output_type": "execute_result"
    },
    {
     "data": {
      "image/png": "[encoded data removed]",
      "text/plain": [
       "<Figure size 432x288 with 1 Axes>"
      ]
     },
     "metadata": {
      "needs_background": "light"
     },
     "output_type": "display_data"
    }
   ],
   "source": [
    "def get_mix(x):\n",
    "    x = str(x)\n",
    "    if x.find('Mix') >= 0: return 'mix'\n",
    "    return 'not'\n",
    "animals['Mix'] = animals.Breed.apply(get_mix)\n",
    "sns.countplot(animals.Mix, palette='Set3')"
   ]
  },
  {
   "cell_type": "code",
   "execution_count": 182,
   "metadata": {},
   "outputs": [],
   "source": [
    "# lets now drop Breed column\n",
    "animals = animals.drop('Breed', axis = 1)"
   ]
  },
  {
   "cell_type": "code",
   "execution_count": 163,
   "metadata": {},
   "outputs": [
    {
     "data": {
      "text/plain": [
       "<matplotlib.axes._subplots.AxesSubplot at 0x18361f460f0>"
      ]
     },
     "execution_count": 163,
     "metadata": {},
     "output_type": "execute_result"
    },
    {
     "data": {
      "image/png": "[encoded data removed]",
      "text/plain": [
       "<Figure size 1152x288 with 2 Axes>"
      ]
     },
     "metadata": {
      "needs_background": "light"
     },
     "output_type": "display_data"
    }
   ],
   "source": [
    "f, (ax1, ax2) = plt.subplots(1, 2, figsize=(16, 4))\n",
    "sns.countplot(data=animals, x='OutcomeType',hue='Sex', ax=ax1)\n",
    "sns.countplot(data=animals, x='Sex',hue='OutcomeType', ax=ax2)"
   ]
  },
  {
   "cell_type": "code",
   "execution_count": 43,
   "metadata": {},
   "outputs": [
    {
     "data": {
      "text/plain": [
       "<matplotlib.axes._subplots.AxesSubplot at 0x1835d806588>"
      ]
     },
     "execution_count": 43,
     "metadata": {},
     "output_type": "execute_result"
    },
    {
     "data": {
      "image/png": "[encoded data removed]",
      "text/plain": [
       "<Figure size 1152x288 with 2 Axes>"
      ]
     },
     "metadata": {
      "needs_background": "light"
     },
     "output_type": "display_data"
    }
   ],
   "source": [
    "f, (ax1, ax2) = plt.subplots(1, 2, figsize=(16, 4))\n",
    "sns.countplot(data=animals, x='OutcomeType',hue='AnimalType', ax=ax1)\n",
    "sns.countplot(data=animals, x='AnimalType',hue='OutcomeType', ax=ax2)"
   ]
  },
  {
   "cell_type": "code",
   "execution_count": 44,
   "metadata": {},
   "outputs": [
    {
     "data": {
      "text/plain": [
       "<matplotlib.axes._subplots.AxesSubplot at 0x1835d8dbcf8>"
      ]
     },
     "execution_count": 44,
     "metadata": {},
     "output_type": "execute_result"
    },
    {
     "data": {
      "image/png": "[encoded data removed]",
      "text/plain": [
       "<Figure size 1152x288 with 2 Axes>"
      ]
     },
     "metadata": {
      "needs_background": "light"
     },
     "output_type": "display_data"
    }
   ],
   "source": [
    "f, (ax1, ax2) = plt.subplots(1, 2, figsize=(16, 4))\n",
    "sns.countplot(data=animals, x='OutcomeType',hue='Neutered', ax=ax1)\n",
    "sns.countplot(data=animals, x='Neutered',hue='OutcomeType', ax=ax2)"
   ]
  },
  {
   "cell_type": "code",
   "execution_count": 45,
   "metadata": {},
   "outputs": [
    {
     "data": {
      "text/plain": [
       "<matplotlib.axes._subplots.AxesSubplot at 0x1835db8d6a0>"
      ]
     },
     "execution_count": 45,
     "metadata": {},
     "output_type": "execute_result"
    },
    {
     "data": {
      "image/png": "[encoded data removed]",
      "text/plain": [
       "<Figure size 1152x288 with 2 Axes>"
      ]
     },
     "metadata": {
      "needs_background": "light"
     },
     "output_type": "display_data"
    }
   ],
   "source": [
    "f, (ax1, ax2) = plt.subplots(1, 2, figsize=(16, 4))\n",
    "sns.countplot(data=animals, x='OutcomeType',hue='Mix', ax=ax1)\n",
    "sns.countplot(data=animals, x='Mix',hue='OutcomeType', ax=ax2)"
   ]
  },
  {
   "cell_type": "code",
   "execution_count": 95,
   "metadata": {},
   "outputs": [
    {
     "data": {
      "text/plain": [
       "1 year       3969\n",
       "2 years      3742\n",
       "2 months     3397\n",
       "3 years      1823\n",
       "1 month      1281\n",
       "3 months     1277\n",
       "4 years      1071\n",
       "5 years       992\n",
       "4 months      888\n",
       "6 years       670\n",
       "3 weeks       659\n",
       "5 months      652\n",
       "6 months      588\n",
       "8 years       536\n",
       "7 years       531\n",
       "2 weeks       529\n",
       "10 months     457\n",
       "10 years      446\n",
       "8 months      402\n",
       "4 weeks       334\n",
       "9 years       288\n",
       "7 months      288\n",
       "12 years      234\n",
       "9 months      224\n",
       "1 weeks       171\n",
       "11 months     166\n",
       "1 week        146\n",
       "13 years      143\n",
       "11 years      126\n",
       "3 days        109\n",
       "2 days         99\n",
       "14 years       97\n",
       "15 years       85\n",
       "1 day          66\n",
       "6 days         50\n",
       "4 days         50\n",
       "16 years       36\n",
       "5 days         24\n",
       "0 years        22\n",
       "17 years       17\n",
       "5 weeks        11\n",
       "18 years       10\n",
       "19 years        3\n",
       "20 years        2\n",
       "Name: AgeuponOutcome, dtype: int64"
      ]
     },
     "execution_count": 95,
     "metadata": {},
     "output_type": "execute_result"
    }
   ],
   "source": [
    "animals['AgeuponOutcome'].value_counts()"
   ]
  },
  {
   "cell_type": "code",
   "execution_count": 164,
   "metadata": {},
   "outputs": [
    {
     "data": {
      "text/plain": [
       "18"
      ]
     },
     "execution_count": 164,
     "metadata": {},
     "output_type": "execute_result"
    }
   ],
   "source": [
    "# check for null values\n",
    "animals['AgeuponOutcome'].isna().sum()"
   ]
  },
  {
   "cell_type": "code",
   "execution_count": 165,
   "metadata": {},
   "outputs": [],
   "source": [
    "# let us now drop these null values\n",
    "animals = animals.dropna(subset=['AgeuponOutcome'])"
   ]
  },
  {
   "cell_type": "code",
   "execution_count": 166,
   "metadata": {},
   "outputs": [],
   "source": [
    "def calc_age_in_years(x):\n",
    "    x = str(x)\n",
    "    age = int(x.split()[0])\n",
    "    if x.find('year') > -1: return float(format(age,'.2f')) \n",
    "    if x.find('month')> -1: return float(format((age / 12),'.2f'))\n",
    "    if x.find('week')> -1: return float(format((age / 52),'.2f'))\n",
    "    if x.find('day')> -1: return float(format((age / 365),'.2f'))\n",
    "    else: return 0"
   ]
  },
  {
   "cell_type": "code",
   "execution_count": 167,
   "metadata": {},
   "outputs": [
    {
     "data": {
      "text/plain": [
       "<matplotlib.axes._subplots.AxesSubplot at 0x18361546f98>"
      ]
     },
     "execution_count": 167,
     "metadata": {},
     "output_type": "execute_result"
    },
    {
     "data": {
      "image/png": "[encoded data removed]",
      "text/plain": [
       "<Figure size 432x288 with 1 Axes>"
      ]
     },
     "metadata": {
      "needs_background": "light"
     },
     "output_type": "display_data"
    }
   ],
   "source": [
    "animals['AgeInYears'] = animals.AgeuponOutcome.apply(calc_age_in_years)\n",
    "sns.distplot(animals.AgeInYears, bins = 20, kde=False)"
   ]
  },
  {
   "cell_type": "code",
   "execution_count": 114,
   "metadata": {},
   "outputs": [
    {
     "data": {
      "text/plain": [
       "count    26711.000000\n",
       "mean         2.177612\n",
       "std          2.965513\n",
       "min          0.000000\n",
       "25%          0.170000\n",
       "50%          1.000000\n",
       "75%          3.000000\n",
       "max         20.000000\n",
       "Name: AgeInYears, dtype: float64"
      ]
     },
     "execution_count": 114,
     "metadata": {},
     "output_type": "execute_result"
    }
   ],
   "source": [
    "animals['AgeInYears'].describe()"
   ]
  },
  {
   "cell_type": "code",
   "execution_count": 168,
   "metadata": {},
   "outputs": [],
   "source": [
    "def calc_age_category(x):\n",
    "    if x <= 10: return 'young'\n",
    "    else: return 'adult'\n",
    "animals['AgeCategory'] = animals.AgeInYears.apply(calc_age_category)"
   ]
  },
  {
   "cell_type": "code",
   "execution_count": 169,
   "metadata": {},
   "outputs": [
    {
     "data": {
      "text/plain": [
       "<matplotlib.axes._subplots.AxesSubplot at 0x18362100eb8>"
      ]
     },
     "execution_count": 169,
     "metadata": {},
     "output_type": "execute_result"
    },
    {
     "data": {
      "image/png": "[encoded data removed]",
      "text/plain": [
       "<Figure size 1152x288 with 2 Axes>"
      ]
     },
     "metadata": {
      "needs_background": "light"
     },
     "output_type": "display_data"
    }
   ],
   "source": [
    "f, (ax1, ax2) = plt.subplots(1, 2, figsize=(16, 4))\n",
    "sns.countplot(data=animals, x='OutcomeType',hue='AgeCategory', ax=ax1)\n",
    "sns.countplot(data=animals, x='AgeCategory',hue='OutcomeType', ax=ax2)"
   ]
  },
  {
   "cell_type": "code",
   "execution_count": 170,
   "metadata": {},
   "outputs": [],
   "source": [
    "# lets now drop AgeuponOutcome column\n",
    "animals = animals.drop('AgeuponOutcome', axis = 1)"
   ]
  },
  {
   "cell_type": "code",
   "execution_count": 171,
   "metadata": {},
   "outputs": [
    {
     "name": "stdout",
     "output_type": "stream",
     "text": [
      "<class 'pandas.core.frame.DataFrame'>\n",
      "Int64Index: 26711 entries, 0 to 26728\n",
      "Data columns (total 10 columns):\n",
      "OutcomeType       26711 non-null category\n",
      "OutcomeSubtype    13099 non-null category\n",
      "AnimalType        26711 non-null category\n",
      "Breed             26711 non-null category\n",
      "Color             26711 non-null category\n",
      "Sex               26711 non-null object\n",
      "Neutered          26711 non-null object\n",
      "Mix               26711 non-null object\n",
      "AgeInYears        26711 non-null float64\n",
      "AgeCategory       26711 non-null object\n",
      "dtypes: category(5), float64(1), object(4)\n",
      "memory usage: 2.7+ MB\n"
     ]
    }
   ],
   "source": [
    "animals.info()"
   ]
  },
  {
   "cell_type": "code",
   "execution_count": 172,
   "metadata": {},
   "outputs": [
    {
     "name": "stdout",
     "output_type": "stream",
     "text": [
      "<class 'pandas.core.frame.DataFrame'>\n",
      "Int64Index: 26711 entries, 0 to 26728\n",
      "Data columns (total 10 columns):\n",
      "OutcomeType       26711 non-null category\n",
      "OutcomeSubtype    13099 non-null category\n",
      "AnimalType        26711 non-null category\n",
      "Breed             26711 non-null category\n",
      "Color             26711 non-null category\n",
      "Sex               26711 non-null category\n",
      "Neutered          26711 non-null category\n",
      "Mix               26711 non-null category\n",
      "AgeInYears        26711 non-null float64\n",
      "AgeCategory       26711 non-null category\n",
      "dtypes: category(9), float64(1)\n",
      "memory usage: 2.0 MB\n"
     ]
    }
   ],
   "source": [
    "# converting engineered features to categorical types\n",
    "cat_columns = ['Sex', 'Neutered', 'Mix', 'AgeCategory']\n",
    "for col in cat_columns:\n",
    "    animals[col] = animals[col].astype('category')\n",
    "animals.info()"
   ]
  },
  {
   "cell_type": "code",
   "execution_count": 174,
   "metadata": {},
   "outputs": [
    {
     "data": {
      "text/plain": [
       "Partner                7816\n",
       "Foster                 1800\n",
       "SCRP                   1583\n",
       "Suffering              1000\n",
       "Aggressive              320\n",
       "Offsite                 165\n",
       "In Kennel               114\n",
       "Behavior                 86\n",
       "Rabies Risk              74\n",
       "Medical                  66\n",
       "In Foster                52\n",
       "Enroute                   8\n",
       "Court/Investigation       6\n",
       "At Vet                    4\n",
       "In Surgery                3\n",
       "Barn                      2\n",
       "Name: OutcomeSubtype, dtype: int64"
      ]
     },
     "execution_count": 174,
     "metadata": {},
     "output_type": "execute_result"
    }
   ],
   "source": [
    "# explore OutcomeSubtype feature values\n",
    "animals['OutcomeSubtype'].value_counts()"
   ]
  },
  {
   "cell_type": "code",
   "execution_count": 175,
   "metadata": {},
   "outputs": [
    {
     "data": {
      "text/plain": [
       "13612"
      ]
     },
     "execution_count": 175,
     "metadata": {},
     "output_type": "execute_result"
    }
   ],
   "source": [
    "# check for null values\n",
    "animals['OutcomeSubtype'].isna().sum()"
   ]
  },
  {
   "cell_type": "code",
   "execution_count": 176,
   "metadata": {},
   "outputs": [
    {
     "data": {
      "text/plain": [
       "(26711, 10)"
      ]
     },
     "execution_count": 176,
     "metadata": {},
     "output_type": "execute_result"
    }
   ],
   "source": [
    "# explore shape of data\n",
    "animals.shape"
   ]
  },
  {
   "cell_type": "code",
   "execution_count": 178,
   "metadata": {},
   "outputs": [],
   "source": [
    "# From above, we see that half of the values in OutcomeSubtype is null. Hence, let us drop that column.\n",
    "animals = animals.drop('OutcomeSubtype', axis = 1)"
   ]
  },
  {
   "cell_type": "code",
   "execution_count": 180,
   "metadata": {},
   "outputs": [],
   "source": [
    "# Also, there is a redundant AgeCategory column for data modelling as we already have AgeInYears. \n",
    "#Hence, let us now drop AgeCategory column as well.\n",
    "animals = animals.drop('AgeCategory', axis = 1)"
   ]
  },
  {
   "cell_type": "markdown",
   "metadata": {},
   "source": [
    "### Data Modeling:"
   ]
  },
  {
   "cell_type": "code",
   "execution_count": 186,
   "metadata": {},
   "outputs": [
    {
     "name": "stdout",
     "output_type": "stream",
     "text": [
      "<class 'pandas.core.frame.DataFrame'>\n",
      "Int64Index: 26711 entries, 0 to 26728\n",
      "Data columns (total 7 columns):\n",
      "OutcomeType    26711 non-null category\n",
      "AnimalType     26711 non-null category\n",
      "Color          26711 non-null category\n",
      "Sex            26711 non-null category\n",
      "Neutered       26711 non-null category\n",
      "Mix            26711 non-null category\n",
      "AgeInYears     26711 non-null float64\n",
      "dtypes: category(6), float64(1)\n",
      "memory usage: 1.8 MB\n"
     ]
    }
   ],
   "source": [
    "animals.info()"
   ]
  },
  {
   "cell_type": "code",
   "execution_count": 187,
   "metadata": {},
   "outputs": [],
   "source": [
    "def convert_to_numeric(df):\n",
    "    for col in ['AnimalType', 'Color', 'OutcomeType', 'Sex', 'Neutered', 'Mix', 'AgeInYears']: \n",
    "        if col in df.columns:\n",
    "            _col = \"_%s\" % (col)\n",
    "            values = df[col].unique() \n",
    "            _values = dict(zip(values, range(len(values)))) \n",
    "            df[_col] = df[col].map(_values).astype(int) \n",
    "            df = df.drop(col, axis = 1)\n",
    "    return df"
   ]
  },
  {
   "cell_type": "code",
   "execution_count": 188,
   "metadata": {},
   "outputs": [],
   "source": [
    "# converting columns to numeric\n",
    "animals = convert_to_numeric(animals)"
   ]
  },
  {
   "cell_type": "code",
   "execution_count": null,
   "metadata": {},
   "outputs": [],
   "source": []
  },
  {
   "cell_type": "code",
   "execution_count": null,
   "metadata": {},
   "outputs": [],
   "source": []
  }
 ],
 "metadata": {
  "kernelspec": {
   "display_name": "Python 3",
   "language": "python",
   "name": "python3"
  },
  "language_info": {
   "codemirror_mode": {
    "name": "ipython",
    "version": 3
   },
   "file_extension": ".py",
   "mimetype": "text/x-python",
   "name": "python",
   "nbconvert_exporter": "python",
   "pygments_lexer": "ipython3",
   "version": "3.7.2"
  }
 },
 "nbformat": 4,
 "nbformat_minor": 2
}
